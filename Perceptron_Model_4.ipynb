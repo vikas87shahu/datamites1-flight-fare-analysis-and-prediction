{
 "cells": [
  {
   "cell_type": "code",
   "execution_count": null,
   "id": "5b1efa62",
   "metadata": {},
   "outputs": [],
   "source": [
    "#We are using tensorflow keras for building neural network model of flight price prediction"
   ]
  },
  {
   "cell_type": "code",
   "execution_count": 1,
   "id": "09ca1858",
   "metadata": {},
   "outputs": [],
   "source": [
    "##importing all necessary libraries\n",
    "import tensorflow as tf\n",
    "from tensorflow import keras\n",
    "import pandas as pd\n",
    "import numpy as np\n",
    "import matplotlib.pyplot as plt\n",
    "from sklearn.model_selection import train_test_split"
   ]
  },
  {
   "cell_type": "code",
   "execution_count": null,
   "id": "f533e072",
   "metadata": {},
   "outputs": [],
   "source": [
    "#relu is a activation function and outputs if x>0 : output=x else output=0\n",
    "#we are having 30 input atrributes in which 9 are continuous and 21 are one hot encoded"
   ]
  },
  {
   "cell_type": "code",
   "execution_count": 179,
   "id": "792c513d",
   "metadata": {},
   "outputs": [],
   "source": [
    "\n",
    "model = keras.models.Sequential([\n",
    "    keras.layers.Dense(32,activation='relu',input_shape=[30]),\n",
    "    keras.layers.Dense(16,activation='relu'),\n",
    "    keras.layers.Dense(1)\n",
    "    \n",
    "])"
   ]
  },
  {
   "cell_type": "code",
   "execution_count": null,
   "id": "bcba94cd",
   "metadata": {},
   "outputs": [],
   "source": [
    "#model contains only one hidden layer and one output layer"
   ]
  },
  {
   "cell_type": "code",
   "execution_count": 180,
   "id": "0f916ca2",
   "metadata": {},
   "outputs": [
    {
     "name": "stdout",
     "output_type": "stream",
     "text": [
      "Model: \"sequential_13\"\n",
      "_________________________________________________________________\n",
      " Layer (type)                Output Shape              Param #   \n",
      "=================================================================\n",
      " dense_39 (Dense)            (None, 32)                992       \n",
      "                                                                 \n",
      " dense_40 (Dense)            (None, 16)                528       \n",
      "                                                                 \n",
      " dense_41 (Dense)            (None, 1)                 17        \n",
      "                                                                 \n",
      "=================================================================\n",
      "Total params: 1,537\n",
      "Trainable params: 1,537\n",
      "Non-trainable params: 0\n",
      "_________________________________________________________________\n"
     ]
    }
   ],
   "source": [
    "model.summary()"
   ]
  },
  {
   "cell_type": "code",
   "execution_count": 197,
   "id": "7e0f6275",
   "metadata": {},
   "outputs": [],
   "source": [
    "# we are calculating loss by measuring mean_squared error\n",
    "# adam is an good optimizer it prevents gradient exploding problem to the some extent\n",
    "model.compile(loss= 'mean_squared_error',\n",
    "              optimizer = 'adam',\n",
    "              metrics = ['mae'])"
   ]
  },
  {
   "cell_type": "code",
   "execution_count": 5,
   "id": "24f3c258",
   "metadata": {},
   "outputs": [],
   "source": [
    "#reading Train data\n",
    "X_train = pd.read_csv('X_train.csv')\n",
    "y_train = pd.read_csv('y_train.csv')"
   ]
  },
  {
   "cell_type": "code",
   "execution_count": 6,
   "id": "67e4b7fb",
   "metadata": {},
   "outputs": [],
   "source": [
    "from sklearn.model_selection import train_test_split"
   ]
  },
  {
   "cell_type": "code",
   "execution_count": 7,
   "id": "9880f207",
   "metadata": {},
   "outputs": [],
   "source": [
    "X_train,X_valid,y_train,y_valid = train_test_split(X_train,y_train,random_state = 42)"
   ]
  },
  {
   "cell_type": "code",
   "execution_count": 8,
   "id": "c562a90c",
   "metadata": {},
   "outputs": [
    {
     "data": {
      "text/plain": [
       "Index(['Duration', 'Total_Stops', 'Arr_Time_Min', 'Arr_Time_Hour',\n",
       "       'Dep_Time_Hour', 'Dep_Time_Min', 'Day_of_Journey', 'Month_of_Journey',\n",
       "       'Airline_Air Asia', 'Airline_Air India', 'Airline_GoAir',\n",
       "       'Airline_IndiGo', 'Airline_Jet Airways', 'Airline_Jet Airways Business',\n",
       "       'Airline_Multiple carriers',\n",
       "       'Airline_Multiple carriers Premium economy', 'Airline_SpiceJet',\n",
       "       'Airline_Vistara', 'Airline_Vistara Premium economy', 'Source_Banglore',\n",
       "       'Source_Chennai', 'Source_Delhi', 'Source_Kolkata', 'Source_Mumbai',\n",
       "       'Destination_Banglore', 'Destination_Cochin', 'Destination_Delhi',\n",
       "       'Destination_Hyderabad', 'Destination_Kolkata',\n",
       "       'Destination_New Delhi'],\n",
       "      dtype='object')"
      ]
     },
     "execution_count": 8,
     "metadata": {},
     "output_type": "execute_result"
    }
   ],
   "source": [
    "X_train.columns"
   ]
  },
  {
   "cell_type": "code",
   "execution_count": 9,
   "id": "f0ef127a",
   "metadata": {
    "scrolled": true
   },
   "outputs": [
    {
     "data": {
      "text/html": [
       "<div>\n",
       "<style scoped>\n",
       "    .dataframe tbody tr th:only-of-type {\n",
       "        vertical-align: middle;\n",
       "    }\n",
       "\n",
       "    .dataframe tbody tr th {\n",
       "        vertical-align: top;\n",
       "    }\n",
       "\n",
       "    .dataframe thead th {\n",
       "        text-align: right;\n",
       "    }\n",
       "</style>\n",
       "<table border=\"1\" class=\"dataframe\">\n",
       "  <thead>\n",
       "    <tr style=\"text-align: right;\">\n",
       "      <th></th>\n",
       "      <th>Duration</th>\n",
       "      <th>Total_Stops</th>\n",
       "      <th>Arr_Time_Min</th>\n",
       "      <th>Arr_Time_Hour</th>\n",
       "      <th>Dep_Time_Hour</th>\n",
       "      <th>Dep_Time_Min</th>\n",
       "      <th>Day_of_Journey</th>\n",
       "      <th>Month_of_Journey</th>\n",
       "      <th>Airline_Air Asia</th>\n",
       "      <th>Airline_Air India</th>\n",
       "      <th>...</th>\n",
       "      <th>Source_Chennai</th>\n",
       "      <th>Source_Delhi</th>\n",
       "      <th>Source_Kolkata</th>\n",
       "      <th>Source_Mumbai</th>\n",
       "      <th>Destination_Banglore</th>\n",
       "      <th>Destination_Cochin</th>\n",
       "      <th>Destination_Delhi</th>\n",
       "      <th>Destination_Hyderabad</th>\n",
       "      <th>Destination_Kolkata</th>\n",
       "      <th>Destination_New Delhi</th>\n",
       "    </tr>\n",
       "  </thead>\n",
       "  <tbody>\n",
       "    <tr>\n",
       "      <th>6823</th>\n",
       "      <td>750</td>\n",
       "      <td>1</td>\n",
       "      <td>5</td>\n",
       "      <td>22.0</td>\n",
       "      <td>9</td>\n",
       "      <td>35</td>\n",
       "      <td>9</td>\n",
       "      <td>5</td>\n",
       "      <td>0</td>\n",
       "      <td>0</td>\n",
       "      <td>...</td>\n",
       "      <td>0</td>\n",
       "      <td>0</td>\n",
       "      <td>1</td>\n",
       "      <td>0</td>\n",
       "      <td>1</td>\n",
       "      <td>0</td>\n",
       "      <td>0</td>\n",
       "      <td>0</td>\n",
       "      <td>0</td>\n",
       "      <td>0</td>\n",
       "    </tr>\n",
       "    <tr>\n",
       "      <th>2523</th>\n",
       "      <td>505</td>\n",
       "      <td>1</td>\n",
       "      <td>0</td>\n",
       "      <td>19.0</td>\n",
       "      <td>10</td>\n",
       "      <td>35</td>\n",
       "      <td>21</td>\n",
       "      <td>5</td>\n",
       "      <td>0</td>\n",
       "      <td>0</td>\n",
       "      <td>...</td>\n",
       "      <td>0</td>\n",
       "      <td>1</td>\n",
       "      <td>0</td>\n",
       "      <td>0</td>\n",
       "      <td>0</td>\n",
       "      <td>1</td>\n",
       "      <td>0</td>\n",
       "      <td>0</td>\n",
       "      <td>0</td>\n",
       "      <td>0</td>\n",
       "    </tr>\n",
       "    <tr>\n",
       "      <th>2888</th>\n",
       "      <td>1535</td>\n",
       "      <td>1</td>\n",
       "      <td>50</td>\n",
       "      <td>6.0</td>\n",
       "      <td>5</td>\n",
       "      <td>15</td>\n",
       "      <td>27</td>\n",
       "      <td>5</td>\n",
       "      <td>0</td>\n",
       "      <td>1</td>\n",
       "      <td>...</td>\n",
       "      <td>0</td>\n",
       "      <td>1</td>\n",
       "      <td>0</td>\n",
       "      <td>0</td>\n",
       "      <td>0</td>\n",
       "      <td>1</td>\n",
       "      <td>0</td>\n",
       "      <td>0</td>\n",
       "      <td>0</td>\n",
       "      <td>0</td>\n",
       "    </tr>\n",
       "    <tr>\n",
       "      <th>373</th>\n",
       "      <td>660</td>\n",
       "      <td>1</td>\n",
       "      <td>10</td>\n",
       "      <td>8.0</td>\n",
       "      <td>21</td>\n",
       "      <td>10</td>\n",
       "      <td>24</td>\n",
       "      <td>3</td>\n",
       "      <td>0</td>\n",
       "      <td>0</td>\n",
       "      <td>...</td>\n",
       "      <td>0</td>\n",
       "      <td>0</td>\n",
       "      <td>1</td>\n",
       "      <td>0</td>\n",
       "      <td>1</td>\n",
       "      <td>0</td>\n",
       "      <td>0</td>\n",
       "      <td>0</td>\n",
       "      <td>0</td>\n",
       "      <td>0</td>\n",
       "    </tr>\n",
       "    <tr>\n",
       "      <th>7930</th>\n",
       "      <td>1300</td>\n",
       "      <td>2</td>\n",
       "      <td>25</td>\n",
       "      <td>4.0</td>\n",
       "      <td>6</td>\n",
       "      <td>45</td>\n",
       "      <td>1</td>\n",
       "      <td>6</td>\n",
       "      <td>0</td>\n",
       "      <td>0</td>\n",
       "      <td>...</td>\n",
       "      <td>0</td>\n",
       "      <td>1</td>\n",
       "      <td>0</td>\n",
       "      <td>0</td>\n",
       "      <td>0</td>\n",
       "      <td>1</td>\n",
       "      <td>0</td>\n",
       "      <td>0</td>\n",
       "      <td>0</td>\n",
       "      <td>0</td>\n",
       "    </tr>\n",
       "  </tbody>\n",
       "</table>\n",
       "<p>5 rows × 30 columns</p>\n",
       "</div>"
      ],
      "text/plain": [
       "      Duration  Total_Stops  Arr_Time_Min  Arr_Time_Hour  Dep_Time_Hour  \\\n",
       "6823       750            1             5           22.0              9   \n",
       "2523       505            1             0           19.0             10   \n",
       "2888      1535            1            50            6.0              5   \n",
       "373        660            1            10            8.0             21   \n",
       "7930      1300            2            25            4.0              6   \n",
       "\n",
       "      Dep_Time_Min  Day_of_Journey  Month_of_Journey  Airline_Air Asia  \\\n",
       "6823            35               9                 5                 0   \n",
       "2523            35              21                 5                 0   \n",
       "2888            15              27                 5                 0   \n",
       "373             10              24                 3                 0   \n",
       "7930            45               1                 6                 0   \n",
       "\n",
       "      Airline_Air India  ...  Source_Chennai  Source_Delhi  Source_Kolkata  \\\n",
       "6823                  0  ...               0             0               1   \n",
       "2523                  0  ...               0             1               0   \n",
       "2888                  1  ...               0             1               0   \n",
       "373                   0  ...               0             0               1   \n",
       "7930                  0  ...               0             1               0   \n",
       "\n",
       "      Source_Mumbai  Destination_Banglore  Destination_Cochin  \\\n",
       "6823              0                     1                   0   \n",
       "2523              0                     0                   1   \n",
       "2888              0                     0                   1   \n",
       "373               0                     1                   0   \n",
       "7930              0                     0                   1   \n",
       "\n",
       "      Destination_Delhi  Destination_Hyderabad  Destination_Kolkata  \\\n",
       "6823                  0                      0                    0   \n",
       "2523                  0                      0                    0   \n",
       "2888                  0                      0                    0   \n",
       "373                   0                      0                    0   \n",
       "7930                  0                      0                    0   \n",
       "\n",
       "      Destination_New Delhi  \n",
       "6823                      0  \n",
       "2523                      0  \n",
       "2888                      0  \n",
       "373                       0  \n",
       "7930                      0  \n",
       "\n",
       "[5 rows x 30 columns]"
      ]
     },
     "execution_count": 9,
     "metadata": {},
     "output_type": "execute_result"
    }
   ],
   "source": [
    "X_train.head()"
   ]
  },
  {
   "cell_type": "code",
   "execution_count": 10,
   "id": "45046f5b",
   "metadata": {},
   "outputs": [
    {
     "data": {
      "text/html": [
       "<div>\n",
       "<style scoped>\n",
       "    .dataframe tbody tr th:only-of-type {\n",
       "        vertical-align: middle;\n",
       "    }\n",
       "\n",
       "    .dataframe tbody tr th {\n",
       "        vertical-align: top;\n",
       "    }\n",
       "\n",
       "    .dataframe thead th {\n",
       "        text-align: right;\n",
       "    }\n",
       "</style>\n",
       "<table border=\"1\" class=\"dataframe\">\n",
       "  <thead>\n",
       "    <tr style=\"text-align: right;\">\n",
       "      <th></th>\n",
       "      <th>Price</th>\n",
       "    </tr>\n",
       "  </thead>\n",
       "  <tbody>\n",
       "    <tr>\n",
       "      <th>6823</th>\n",
       "      <td>14151</td>\n",
       "    </tr>\n",
       "    <tr>\n",
       "      <th>2523</th>\n",
       "      <td>9103</td>\n",
       "    </tr>\n",
       "    <tr>\n",
       "      <th>2888</th>\n",
       "      <td>8425</td>\n",
       "    </tr>\n",
       "    <tr>\n",
       "      <th>373</th>\n",
       "      <td>14231</td>\n",
       "    </tr>\n",
       "    <tr>\n",
       "      <th>7930</th>\n",
       "      <td>10919</td>\n",
       "    </tr>\n",
       "  </tbody>\n",
       "</table>\n",
       "</div>"
      ],
      "text/plain": [
       "      Price\n",
       "6823  14151\n",
       "2523   9103\n",
       "2888   8425\n",
       "373   14231\n",
       "7930  10919"
      ]
     },
     "execution_count": 10,
     "metadata": {},
     "output_type": "execute_result"
    }
   ],
   "source": [
    "y_train.head()"
   ]
  },
  {
   "cell_type": "markdown",
   "id": "1e570ed9",
   "metadata": {},
   "source": [
    "##### we are Scaling continuous attributes because it is good to use when attribute values are very high"
   ]
  },
  {
   "cell_type": "code",
   "execution_count": 11,
   "id": "fa487d83",
   "metadata": {},
   "outputs": [],
   "source": [
    "X_train1 = X_train.iloc[:,:9]\n",
    "X_valid1 = X_valid.iloc[:,:9]"
   ]
  },
  {
   "cell_type": "code",
   "execution_count": 12,
   "id": "30045c17",
   "metadata": {},
   "outputs": [],
   "source": [
    "HotEncodetrain = X_train.iloc[:,9:]\n",
    "HotEncodevalid = X_valid.iloc[:,9:]"
   ]
  },
  {
   "cell_type": "code",
   "execution_count": 13,
   "id": "b5eccdc7",
   "metadata": {},
   "outputs": [],
   "source": [
    "X_test = pd.read_csv('X_test.csv')"
   ]
  },
  {
   "cell_type": "code",
   "execution_count": 14,
   "id": "e5151e64",
   "metadata": {},
   "outputs": [],
   "source": [
    "y_test = pd.read_csv('y_test.csv')"
   ]
  },
  {
   "cell_type": "code",
   "execution_count": 15,
   "id": "d5c2e227",
   "metadata": {},
   "outputs": [],
   "source": [
    "X_test1 = X_test.iloc[:,:9]\n",
    "HotEncodetest = X_test.iloc[:,9:]"
   ]
  },
  {
   "cell_type": "code",
   "execution_count": 16,
   "id": "bc8e0196",
   "metadata": {},
   "outputs": [],
   "source": [
    "from sklearn.preprocessing import StandardScaler\n",
    "scaler = StandardScaler()\n",
    "X_train1 = scaler.fit_transform(X_train1)\n",
    "X_valid1 = scaler.transform(X_valid1)\n",
    "X_test1 = scaler.transform(X_test1)"
   ]
  },
  {
   "cell_type": "code",
   "execution_count": 17,
   "id": "67fb30d9",
   "metadata": {},
   "outputs": [],
   "source": [
    "HotEncodetrain = np.array(HotEncodetrain)\n",
    "HotEncodetest = np.array(HotEncodetest)"
   ]
  },
  {
   "cell_type": "code",
   "execution_count": 18,
   "id": "1970b889",
   "metadata": {},
   "outputs": [],
   "source": [
    "X_train = np.concatenate([X_train1,HotEncodetrain],axis=1)\n",
    "X_valid = np.concatenate([X_valid1,HotEncodevalid],axis=1)\n",
    "X_test = np.concatenate([X_test1,HotEncodetest],axis=1)"
   ]
  },
  {
   "cell_type": "code",
   "execution_count": 212,
   "id": "2f4e9186",
   "metadata": {},
   "outputs": [],
   "source": [
    "np.random.seed(42)\n",
    "tf.random.set_seed(42)"
   ]
  },
  {
   "cell_type": "code",
   "execution_count": null,
   "id": "198fb2e8",
   "metadata": {},
   "outputs": [],
   "source": [
    "#training model for 200 epochs"
   ]
  },
  {
   "cell_type": "code",
   "execution_count": 213,
   "id": "8dd56b81",
   "metadata": {
    "scrolled": true
   },
   "outputs": [
    {
     "name": "stdout",
     "output_type": "stream",
     "text": [
      "Epoch 1/200\n",
      "201/201 [==============================] - 2s 8ms/step - loss: 103933408.0000 - mae: 9070.2900 - val_loss: 103022768.0000 - val_mae: 9096.5000\n",
      "Epoch 2/200\n",
      "201/201 [==============================] - 1s 7ms/step - loss: 100556648.0000 - mae: 8904.4355 - val_loss: 95424688.0000 - val_mae: 8723.0273\n",
      "Epoch 3/200\n",
      "201/201 [==============================] - 1s 7ms/step - loss: 86978840.0000 - mae: 8205.8760 - val_loss: 75578064.0000 - val_mae: 7657.6792\n",
      "Epoch 4/200\n",
      "201/201 [==============================] - 1s 6ms/step - loss: 62735472.0000 - mae: 6766.0825 - val_loss: 48325328.0000 - val_mae: 5851.7544\n",
      "Epoch 5/200\n",
      "201/201 [==============================] - 1s 7ms/step - loss: 36903920.0000 - mae: 4757.5454 - val_loss: 25828846.0000 - val_mae: 3777.4846\n",
      "Epoch 6/200\n",
      "201/201 [==============================] - 1s 6ms/step - loss: 20509566.0000 - mae: 3097.1819 - val_loss: 15488064.0000 - val_mae: 2653.7344\n",
      "Epoch 7/200\n",
      "201/201 [==============================] - 1s 7ms/step - loss: 14512547.0000 - mae: 2513.2229 - val_loss: 12668304.0000 - val_mae: 2401.5491\n",
      "Epoch 8/200\n",
      "201/201 [==============================] - 1s 7ms/step - loss: 12944206.0000 - mae: 2406.3982 - val_loss: 11833134.0000 - val_mae: 2340.4070\n",
      "Epoch 9/200\n",
      "201/201 [==============================] - 1s 6ms/step - loss: 12269967.0000 - mae: 2355.2598 - val_loss: 11314099.0000 - val_mae: 2294.6626\n",
      "Epoch 10/200\n",
      "201/201 [==============================] - 1s 7ms/step - loss: 11780147.0000 - mae: 2307.9106 - val_loss: 10908166.0000 - val_mae: 2245.6677\n",
      "Epoch 11/200\n",
      "201/201 [==============================] - 1s 7ms/step - loss: 11385369.0000 - mae: 2260.4189 - val_loss: 10575124.0000 - val_mae: 2202.1357\n",
      "Epoch 12/200\n",
      "201/201 [==============================] - 1s 7ms/step - loss: 11051356.0000 - mae: 2222.6238 - val_loss: 10291591.0000 - val_mae: 2164.8904\n",
      "Epoch 13/200\n",
      "201/201 [==============================] - 1s 7ms/step - loss: 10769108.0000 - mae: 2181.3792 - val_loss: 10053989.0000 - val_mae: 2133.8066\n",
      "Epoch 14/200\n",
      "201/201 [==============================] - 1s 7ms/step - loss: 10527403.0000 - mae: 2147.8955 - val_loss: 9854750.0000 - val_mae: 2108.9255\n",
      "Epoch 15/200\n",
      "201/201 [==============================] - 1s 7ms/step - loss: 10328181.0000 - mae: 2121.3032 - val_loss: 9690272.0000 - val_mae: 2085.6091\n",
      "Epoch 16/200\n",
      "201/201 [==============================] - 1s 7ms/step - loss: 10162940.0000 - mae: 2099.2664 - val_loss: 9558117.0000 - val_mae: 2057.7639\n",
      "Epoch 17/200\n",
      "201/201 [==============================] - 1s 7ms/step - loss: 10019990.0000 - mae: 2075.3909 - val_loss: 9448228.0000 - val_mae: 2037.3068\n",
      "Epoch 18/200\n",
      "201/201 [==============================] - 1s 7ms/step - loss: 9900924.0000 - mae: 2052.2690 - val_loss: 9353905.0000 - val_mae: 2031.3011\n",
      "Epoch 19/200\n",
      "201/201 [==============================] - 1s 7ms/step - loss: 9814469.0000 - mae: 2044.6989 - val_loss: 9282801.0000 - val_mae: 2016.5372\n",
      "Epoch 20/200\n",
      "201/201 [==============================] - 1s 7ms/step - loss: 9737740.0000 - mae: 2032.3196 - val_loss: 9228254.0000 - val_mae: 2001.6090\n",
      "Epoch 21/200\n",
      "201/201 [==============================] - 2s 8ms/step - loss: 9677919.0000 - mae: 2022.6810 - val_loss: 9188966.0000 - val_mae: 1990.3339\n",
      "Epoch 22/200\n",
      "201/201 [==============================] - 1s 7ms/step - loss: 9633849.0000 - mae: 2016.9462 - val_loss: 9161244.0000 - val_mae: 1983.4482\n",
      "Epoch 23/200\n",
      "201/201 [==============================] - 1s 7ms/step - loss: 9600609.0000 - mae: 2013.5079 - val_loss: 9133077.0000 - val_mae: 1980.4926\n",
      "Epoch 24/200\n",
      "201/201 [==============================] - 1s 7ms/step - loss: 9570340.0000 - mae: 2009.1542 - val_loss: 9115417.0000 - val_mae: 1980.5388\n",
      "Epoch 25/200\n",
      "201/201 [==============================] - 1s 7ms/step - loss: 9552345.0000 - mae: 2010.8444 - val_loss: 9104682.0000 - val_mae: 1978.2682\n",
      "Epoch 26/200\n",
      "201/201 [==============================] - 1s 7ms/step - loss: 9533793.0000 - mae: 2011.5736 - val_loss: 9097464.0000 - val_mae: 1975.5197\n",
      "Epoch 27/200\n",
      "201/201 [==============================] - 1s 7ms/step - loss: 9519850.0000 - mae: 2005.6265 - val_loss: 9085101.0000 - val_mae: 1979.0613\n",
      "Epoch 28/200\n",
      "201/201 [==============================] - 1s 6ms/step - loss: 9509542.0000 - mae: 2014.6906 - val_loss: 9092257.0000 - val_mae: 1979.4312\n",
      "Epoch 29/200\n",
      "201/201 [==============================] - 1s 7ms/step - loss: 9498653.0000 - mae: 2011.7451 - val_loss: 9085244.0000 - val_mae: 1979.5339\n",
      "Epoch 30/200\n",
      "201/201 [==============================] - 1s 7ms/step - loss: 9490521.0000 - mae: 2008.0840 - val_loss: 9077205.0000 - val_mae: 1980.9977\n",
      "Epoch 31/200\n",
      "201/201 [==============================] - 1s 7ms/step - loss: 9485810.0000 - mae: 2007.6974 - val_loss: 9072304.0000 - val_mae: 1980.3217\n",
      "Epoch 32/200\n",
      "201/201 [==============================] - 1s 7ms/step - loss: 9475121.0000 - mae: 2013.4473 - val_loss: 9086906.0000 - val_mae: 1973.3828\n",
      "Epoch 33/200\n",
      "201/201 [==============================] - 1s 7ms/step - loss: 9474864.0000 - mae: 2005.1659 - val_loss: 9066898.0000 - val_mae: 1980.9086\n",
      "Epoch 34/200\n",
      "201/201 [==============================] - 1s 6ms/step - loss: 9465489.0000 - mae: 2010.9359 - val_loss: 9075307.0000 - val_mae: 1975.2307\n",
      "Epoch 35/200\n",
      "201/201 [==============================] - 1s 7ms/step - loss: 9465702.0000 - mae: 2006.0665 - val_loss: 9061540.0000 - val_mae: 1977.6963\n",
      "Epoch 36/200\n",
      "201/201 [==============================] - 1s 7ms/step - loss: 9459206.0000 - mae: 2010.9343 - val_loss: 9063507.0000 - val_mae: 1972.7218\n",
      "Epoch 37/200\n",
      "201/201 [==============================] - 1s 7ms/step - loss: 9452011.0000 - mae: 2002.4169 - val_loss: 9054263.0000 - val_mae: 1978.1534\n",
      "Epoch 38/200\n",
      "201/201 [==============================] - 1s 7ms/step - loss: 9448757.0000 - mae: 2010.7799 - val_loss: 9060870.0000 - val_mae: 1973.0168\n",
      "Epoch 39/200\n",
      "201/201 [==============================] - 1s 7ms/step - loss: 9442841.0000 - mae: 2002.6757 - val_loss: 9045822.0000 - val_mae: 1977.3844\n",
      "Epoch 40/200\n",
      "201/201 [==============================] - 1s 7ms/step - loss: 9443667.0000 - mae: 2006.4047 - val_loss: 9043403.0000 - val_mae: 1975.2021\n",
      "Epoch 41/200\n",
      "201/201 [==============================] - 1s 6ms/step - loss: 9434496.0000 - mae: 2003.9749 - val_loss: 9038809.0000 - val_mae: 1972.7325\n",
      "Epoch 42/200\n",
      "201/201 [==============================] - 1s 7ms/step - loss: 9427956.0000 - mae: 2001.8704 - val_loss: 9037849.0000 - val_mae: 1973.7524\n",
      "Epoch 43/200\n",
      "201/201 [==============================] - 1s 7ms/step - loss: 9423589.0000 - mae: 2002.6302 - val_loss: 9038161.0000 - val_mae: 1969.6329\n",
      "Epoch 44/200\n",
      "201/201 [==============================] - 1s 6ms/step - loss: 9419842.0000 - mae: 2002.2263 - val_loss: 9028825.0000 - val_mae: 1969.3903\n",
      "Epoch 45/200\n",
      "201/201 [==============================] - 1s 7ms/step - loss: 9414531.0000 - mae: 2001.4775 - val_loss: 9020882.0000 - val_mae: 1971.1418\n",
      "Epoch 46/200\n",
      "201/201 [==============================] - 1s 7ms/step - loss: 9407156.0000 - mae: 2003.4337 - val_loss: 9023276.0000 - val_mae: 1967.1764\n",
      "Epoch 47/200\n",
      "201/201 [==============================] - 1s 6ms/step - loss: 9401206.0000 - mae: 1998.3997 - val_loss: 9020940.0000 - val_mae: 1963.1855\n",
      "Epoch 48/200\n",
      "201/201 [==============================] - 1s 7ms/step - loss: 9400208.0000 - mae: 1998.6003 - val_loss: 9012040.0000 - val_mae: 1965.1813\n",
      "Epoch 49/200\n",
      "201/201 [==============================] - 1s 6ms/step - loss: 9392005.0000 - mae: 1996.0775 - val_loss: 9003563.0000 - val_mae: 1963.2604\n",
      "Epoch 50/200\n",
      "201/201 [==============================] - 1s 7ms/step - loss: 9385707.0000 - mae: 1994.6653 - val_loss: 8997412.0000 - val_mae: 1962.5085\n",
      "Epoch 51/200\n",
      "201/201 [==============================] - 1s 7ms/step - loss: 9380108.0000 - mae: 1994.5856 - val_loss: 8993042.0000 - val_mae: 1967.7379\n",
      "Epoch 52/200\n",
      "201/201 [==============================] - 1s 6ms/step - loss: 9371826.0000 - mae: 1992.6576 - val_loss: 8988495.0000 - val_mae: 1961.0145\n",
      "Epoch 53/200\n",
      "201/201 [==============================] - 1s 7ms/step - loss: 9369584.0000 - mae: 1992.3588 - val_loss: 8983029.0000 - val_mae: 1960.5845\n",
      "Epoch 54/200\n",
      "201/201 [==============================] - 1s 7ms/step - loss: 9361120.0000 - mae: 1989.5598 - val_loss: 8978118.0000 - val_mae: 1960.7642\n"
     ]
    },
    {
     "name": "stdout",
     "output_type": "stream",
     "text": [
      "Epoch 55/200\n",
      "201/201 [==============================] - 1s 6ms/step - loss: 9354725.0000 - mae: 1987.1829 - val_loss: 8977548.0000 - val_mae: 1955.4410\n",
      "Epoch 56/200\n",
      "201/201 [==============================] - 1s 7ms/step - loss: 9348458.0000 - mae: 1982.6658 - val_loss: 8968569.0000 - val_mae: 1959.3933\n",
      "Epoch 57/200\n",
      "201/201 [==============================] - 1s 7ms/step - loss: 9343315.0000 - mae: 1988.5554 - val_loss: 8964971.0000 - val_mae: 1953.6250\n",
      "Epoch 58/200\n",
      "201/201 [==============================] - 1s 6ms/step - loss: 9332425.0000 - mae: 1984.6150 - val_loss: 8953518.0000 - val_mae: 1954.7732\n",
      "Epoch 59/200\n",
      "201/201 [==============================] - 1s 7ms/step - loss: 9326435.0000 - mae: 1984.2363 - val_loss: 8944156.0000 - val_mae: 1952.2405\n",
      "Epoch 60/200\n",
      "201/201 [==============================] - 1s 7ms/step - loss: 9321530.0000 - mae: 1983.7949 - val_loss: 8954901.0000 - val_mae: 1945.0975\n",
      "Epoch 61/200\n",
      "201/201 [==============================] - 1s 6ms/step - loss: 9314495.0000 - mae: 1978.7585 - val_loss: 8932373.0000 - val_mae: 1945.9652\n",
      "Epoch 62/200\n",
      "201/201 [==============================] - 1s 7ms/step - loss: 9305559.0000 - mae: 1978.3120 - val_loss: 8927023.0000 - val_mae: 1944.6790\n",
      "Epoch 63/200\n",
      "201/201 [==============================] - 1s 7ms/step - loss: 9302798.0000 - mae: 1976.9542 - val_loss: 8928842.0000 - val_mae: 1942.5408\n",
      "Epoch 64/200\n",
      "201/201 [==============================] - 1s 7ms/step - loss: 9291371.0000 - mae: 1970.6829 - val_loss: 8908633.0000 - val_mae: 1945.0905\n",
      "Epoch 65/200\n",
      "201/201 [==============================] - 1s 7ms/step - loss: 9287296.0000 - mae: 1974.4081 - val_loss: 8909743.0000 - val_mae: 1939.0248\n",
      "Epoch 66/200\n",
      "201/201 [==============================] - 1s 7ms/step - loss: 9287341.0000 - mae: 1974.6398 - val_loss: 8902455.0000 - val_mae: 1940.6633\n",
      "Epoch 67/200\n",
      "201/201 [==============================] - 1s 6ms/step - loss: 9272522.0000 - mae: 1972.0404 - val_loss: 8898395.0000 - val_mae: 1937.0587\n",
      "Epoch 68/200\n",
      "201/201 [==============================] - 1s 7ms/step - loss: 9264530.0000 - mae: 1966.5645 - val_loss: 8886449.0000 - val_mae: 1938.0889\n",
      "Epoch 69/200\n",
      "201/201 [==============================] - 1s 7ms/step - loss: 9260931.0000 - mae: 1971.3090 - val_loss: 8888804.0000 - val_mae: 1934.7195\n",
      "Epoch 70/200\n",
      "201/201 [==============================] - 1s 6ms/step - loss: 9254854.0000 - mae: 1969.2028 - val_loss: 8893522.0000 - val_mae: 1930.8466\n",
      "Epoch 71/200\n",
      "201/201 [==============================] - 1s 7ms/step - loss: 9251291.0000 - mae: 1961.0797 - val_loss: 8874073.0000 - val_mae: 1933.4073\n",
      "Epoch 72/200\n",
      "201/201 [==============================] - 1s 7ms/step - loss: 9241562.0000 - mae: 1964.9553 - val_loss: 8864002.0000 - val_mae: 1931.5537\n",
      "Epoch 73/200\n",
      "201/201 [==============================] - 1s 7ms/step - loss: 9237515.0000 - mae: 1960.8031 - val_loss: 8862346.0000 - val_mae: 1932.7200\n",
      "Epoch 74/200\n",
      "201/201 [==============================] - 1s 7ms/step - loss: 9236468.0000 - mae: 1960.8838 - val_loss: 8854961.0000 - val_mae: 1931.4279\n",
      "Epoch 75/200\n",
      "201/201 [==============================] - 1s 7ms/step - loss: 9225972.0000 - mae: 1963.5880 - val_loss: 8859943.0000 - val_mae: 1927.2645\n",
      "Epoch 76/200\n",
      "201/201 [==============================] - 1s 7ms/step - loss: 9217209.0000 - mae: 1952.2578 - val_loss: 8839054.0000 - val_mae: 1928.7432\n",
      "Epoch 77/200\n",
      "201/201 [==============================] - 1s 6ms/step - loss: 9213745.0000 - mae: 1957.3617 - val_loss: 8838049.0000 - val_mae: 1929.4259\n",
      "Epoch 78/200\n",
      "201/201 [==============================] - 1s 7ms/step - loss: 9205973.0000 - mae: 1952.8414 - val_loss: 8831513.0000 - val_mae: 1926.7191\n",
      "Epoch 79/200\n",
      "201/201 [==============================] - 1s 6ms/step - loss: 9201828.0000 - mae: 1957.5408 - val_loss: 8832251.0000 - val_mae: 1926.7135\n",
      "Epoch 80/200\n",
      "201/201 [==============================] - 1s 7ms/step - loss: 9204599.0000 - mae: 1955.1039 - val_loss: 8832360.0000 - val_mae: 1923.1725\n",
      "Epoch 81/200\n",
      "201/201 [==============================] - 1s 7ms/step - loss: 9192567.0000 - mae: 1953.3398 - val_loss: 8822342.0000 - val_mae: 1921.5134\n",
      "Epoch 82/200\n",
      "201/201 [==============================] - 1s 7ms/step - loss: 9181676.0000 - mae: 1948.7704 - val_loss: 8814258.0000 - val_mae: 1927.0172\n",
      "Epoch 83/200\n",
      "201/201 [==============================] - 1s 7ms/step - loss: 9179661.0000 - mae: 1950.1969 - val_loss: 8808756.0000 - val_mae: 1923.4452\n",
      "Epoch 84/200\n",
      "201/201 [==============================] - 1s 7ms/step - loss: 9178939.0000 - mae: 1952.3054 - val_loss: 8820261.0000 - val_mae: 1916.9152\n",
      "Epoch 85/200\n",
      "201/201 [==============================] - 1s 6ms/step - loss: 9171288.0000 - mae: 1946.6796 - val_loss: 8806551.0000 - val_mae: 1918.1615\n",
      "Epoch 86/200\n",
      "201/201 [==============================] - 1s 7ms/step - loss: 9164755.0000 - mae: 1944.8370 - val_loss: 8795748.0000 - val_mae: 1921.1852\n",
      "Epoch 87/200\n",
      "201/201 [==============================] - 1s 7ms/step - loss: 9159677.0000 - mae: 1944.1418 - val_loss: 8791212.0000 - val_mae: 1921.4059\n",
      "Epoch 88/200\n",
      "201/201 [==============================] - 1s 6ms/step - loss: 9158673.0000 - mae: 1946.9724 - val_loss: 8795358.0000 - val_mae: 1911.4852\n",
      "Epoch 89/200\n",
      "201/201 [==============================] - 1s 7ms/step - loss: 9149420.0000 - mae: 1943.1490 - val_loss: 8783763.0000 - val_mae: 1914.6276\n",
      "Epoch 90/200\n",
      "201/201 [==============================] - 1s 7ms/step - loss: 9149198.0000 - mae: 1942.7372 - val_loss: 8784244.0000 - val_mae: 1913.1460\n",
      "Epoch 91/200\n",
      "201/201 [==============================] - 1s 6ms/step - loss: 9140407.0000 - mae: 1946.4625 - val_loss: 8786167.0000 - val_mae: 1916.0063\n",
      "Epoch 92/200\n",
      "201/201 [==============================] - 1s 7ms/step - loss: 9136382.0000 - mae: 1942.5740 - val_loss: 8778931.0000 - val_mae: 1914.8900\n",
      "Epoch 93/200\n",
      "201/201 [==============================] - 1s 7ms/step - loss: 9132300.0000 - mae: 1941.4954 - val_loss: 8772297.0000 - val_mae: 1913.4918\n",
      "Epoch 94/200\n",
      "201/201 [==============================] - 1s 7ms/step - loss: 9131640.0000 - mae: 1937.9747 - val_loss: 8766758.0000 - val_mae: 1913.5756\n",
      "Epoch 95/200\n",
      "201/201 [==============================] - 1s 7ms/step - loss: 9127048.0000 - mae: 1940.1852 - val_loss: 8772073.0000 - val_mae: 1908.1211\n",
      "Epoch 96/200\n",
      "201/201 [==============================] - 1s 7ms/step - loss: 9117443.0000 - mae: 1937.6139 - val_loss: 8766241.0000 - val_mae: 1906.2397\n",
      "Epoch 97/200\n",
      "201/201 [==============================] - 1s 7ms/step - loss: 9115929.0000 - mae: 1937.9065 - val_loss: 8755855.0000 - val_mae: 1907.7675\n",
      "Epoch 98/200\n",
      "201/201 [==============================] - 1s 7ms/step - loss: 9112320.0000 - mae: 1935.8252 - val_loss: 8751037.0000 - val_mae: 1907.7463\n",
      "Epoch 99/200\n",
      "201/201 [==============================] - 1s 7ms/step - loss: 9105374.0000 - mae: 1932.5271 - val_loss: 8739932.0000 - val_mae: 1908.4039\n",
      "Epoch 100/200\n",
      "201/201 [==============================] - 1s 7ms/step - loss: 9103138.0000 - mae: 1937.7194 - val_loss: 8741102.0000 - val_mae: 1905.4341\n",
      "Epoch 101/200\n",
      "201/201 [==============================] - 1s 6ms/step - loss: 9097705.0000 - mae: 1937.7535 - val_loss: 8757688.0000 - val_mae: 1901.3743\n",
      "Epoch 102/200\n",
      "201/201 [==============================] - 1s 7ms/step - loss: 9096638.0000 - mae: 1930.3279 - val_loss: 8749662.0000 - val_mae: 1902.3945\n",
      "Epoch 103/200\n",
      "201/201 [==============================] - 1s 6ms/step - loss: 9091162.0000 - mae: 1934.0461 - val_loss: 8740247.0000 - val_mae: 1902.5049\n",
      "Epoch 104/200\n",
      "201/201 [==============================] - 1s 7ms/step - loss: 9093170.0000 - mae: 1930.3604 - val_loss: 8728019.0000 - val_mae: 1902.6749\n",
      "Epoch 105/200\n",
      "201/201 [==============================] - 1s 7ms/step - loss: 9080159.0000 - mae: 1927.0306 - val_loss: 8720825.0000 - val_mae: 1906.8978\n",
      "Epoch 106/200\n",
      "201/201 [==============================] - 1s 7ms/step - loss: 9077962.0000 - mae: 1930.1116 - val_loss: 8719445.0000 - val_mae: 1906.4326\n",
      "Epoch 107/200\n",
      "201/201 [==============================] - 1s 7ms/step - loss: 9079342.0000 - mae: 1930.0490 - val_loss: 8719346.0000 - val_mae: 1901.1055\n",
      "Epoch 108/200\n",
      "201/201 [==============================] - 1s 7ms/step - loss: 9073720.0000 - mae: 1925.2703 - val_loss: 8707907.0000 - val_mae: 1901.5129\n"
     ]
    },
    {
     "name": "stdout",
     "output_type": "stream",
     "text": [
      "Epoch 109/200\n",
      "201/201 [==============================] - 1s 7ms/step - loss: 9067830.0000 - mae: 1928.0006 - val_loss: 8718206.0000 - val_mae: 1898.6427\n",
      "Epoch 110/200\n",
      "201/201 [==============================] - 1s 7ms/step - loss: 9062906.0000 - mae: 1925.5531 - val_loss: 8704781.0000 - val_mae: 1900.7457\n",
      "Epoch 111/200\n",
      "201/201 [==============================] - 1s 7ms/step - loss: 9059189.0000 - mae: 1927.2107 - val_loss: 8705610.0000 - val_mae: 1900.5905\n",
      "Epoch 112/200\n",
      "201/201 [==============================] - 1s 7ms/step - loss: 9055597.0000 - mae: 1924.3989 - val_loss: 8702249.0000 - val_mae: 1899.9136\n",
      "Epoch 113/200\n",
      "201/201 [==============================] - 1s 7ms/step - loss: 9053929.0000 - mae: 1923.9781 - val_loss: 8695226.0000 - val_mae: 1898.4047\n",
      "Epoch 114/200\n",
      "201/201 [==============================] - 1s 7ms/step - loss: 9045167.0000 - mae: 1926.8962 - val_loss: 8700567.0000 - val_mae: 1897.0096\n",
      "Epoch 115/200\n",
      "201/201 [==============================] - 1s 7ms/step - loss: 9042458.0000 - mae: 1922.8806 - val_loss: 8693384.0000 - val_mae: 1894.8826\n",
      "Epoch 116/200\n",
      "201/201 [==============================] - 1s 6ms/step - loss: 9043198.0000 - mae: 1924.1169 - val_loss: 8689913.0000 - val_mae: 1896.0547\n",
      "Epoch 117/200\n",
      "201/201 [==============================] - 1s 7ms/step - loss: 9034769.0000 - mae: 1921.4906 - val_loss: 8683992.0000 - val_mae: 1897.9424\n",
      "Epoch 118/200\n",
      "201/201 [==============================] - 1s 7ms/step - loss: 9030848.0000 - mae: 1921.8262 - val_loss: 8679201.0000 - val_mae: 1897.4912\n",
      "Epoch 119/200\n",
      "201/201 [==============================] - 1s 7ms/step - loss: 9028194.0000 - mae: 1918.4359 - val_loss: 8674655.0000 - val_mae: 1898.4353\n",
      "Epoch 120/200\n",
      "201/201 [==============================] - 1s 7ms/step - loss: 9024213.0000 - mae: 1921.9780 - val_loss: 8673526.0000 - val_mae: 1894.8978\n",
      "Epoch 121/200\n",
      "201/201 [==============================] - 1s 7ms/step - loss: 9021017.0000 - mae: 1919.8275 - val_loss: 8675408.0000 - val_mae: 1892.8253\n",
      "Epoch 122/200\n",
      "201/201 [==============================] - 1s 7ms/step - loss: 9014967.0000 - mae: 1918.9479 - val_loss: 8662864.0000 - val_mae: 1898.4388\n",
      "Epoch 123/200\n",
      "201/201 [==============================] - 1s 7ms/step - loss: 9017042.0000 - mae: 1928.9441 - val_loss: 8670944.0000 - val_mae: 1899.0140\n",
      "Epoch 124/200\n",
      "201/201 [==============================] - 1s 7ms/step - loss: 9006712.0000 - mae: 1922.6301 - val_loss: 8669625.0000 - val_mae: 1894.4508\n",
      "Epoch 125/200\n",
      "201/201 [==============================] - 1s 7ms/step - loss: 9004304.0000 - mae: 1918.9346 - val_loss: 8661280.0000 - val_mae: 1893.8391\n",
      "Epoch 126/200\n",
      "201/201 [==============================] - 1s 7ms/step - loss: 8999871.0000 - mae: 1918.8073 - val_loss: 8658815.0000 - val_mae: 1892.3452\n",
      "Epoch 127/200\n",
      "201/201 [==============================] - 1s 7ms/step - loss: 8994120.0000 - mae: 1915.0114 - val_loss: 8650876.0000 - val_mae: 1890.9698\n",
      "Epoch 128/200\n",
      "201/201 [==============================] - 1s 7ms/step - loss: 8990657.0000 - mae: 1913.7589 - val_loss: 8640468.0000 - val_mae: 1891.0752\n",
      "Epoch 129/200\n",
      "201/201 [==============================] - 1s 6ms/step - loss: 8991357.0000 - mae: 1916.6361 - val_loss: 8643852.0000 - val_mae: 1892.3898\n",
      "Epoch 130/200\n",
      "201/201 [==============================] - 1s 7ms/step - loss: 8978468.0000 - mae: 1917.9785 - val_loss: 8649918.0000 - val_mae: 1888.7600\n",
      "Epoch 131/200\n",
      "201/201 [==============================] - 2s 7ms/step - loss: 8980624.0000 - mae: 1915.3656 - val_loss: 8636589.0000 - val_mae: 1888.6318\n",
      "Epoch 132/200\n",
      "201/201 [==============================] - 1s 7ms/step - loss: 8972789.0000 - mae: 1913.2006 - val_loss: 8634356.0000 - val_mae: 1886.1410\n",
      "Epoch 133/200\n",
      "201/201 [==============================] - 1s 7ms/step - loss: 8968889.0000 - mae: 1914.1968 - val_loss: 8625499.0000 - val_mae: 1888.8143\n",
      "Epoch 134/200\n",
      "201/201 [==============================] - 1s 7ms/step - loss: 8965691.0000 - mae: 1913.3677 - val_loss: 8620114.0000 - val_mae: 1886.3999\n",
      "Epoch 135/200\n",
      "201/201 [==============================] - 1s 7ms/step - loss: 8960708.0000 - mae: 1912.7286 - val_loss: 8620574.0000 - val_mae: 1884.9225\n",
      "Epoch 136/200\n",
      "201/201 [==============================] - 1s 7ms/step - loss: 8955897.0000 - mae: 1910.4410 - val_loss: 8611848.0000 - val_mae: 1884.8610\n",
      "Epoch 137/200\n",
      "201/201 [==============================] - 1s 7ms/step - loss: 8951019.0000 - mae: 1909.0829 - val_loss: 8603674.0000 - val_mae: 1885.1438\n",
      "Epoch 138/200\n",
      "201/201 [==============================] - 1s 7ms/step - loss: 8939245.0000 - mae: 1909.5648 - val_loss: 8603866.0000 - val_mae: 1882.9218\n",
      "Epoch 139/200\n",
      "201/201 [==============================] - 1s 7ms/step - loss: 8939435.0000 - mae: 1907.1779 - val_loss: 8594623.0000 - val_mae: 1882.4974\n",
      "Epoch 140/200\n",
      "201/201 [==============================] - 1s 7ms/step - loss: 8931968.0000 - mae: 1908.1820 - val_loss: 8586865.0000 - val_mae: 1882.0282\n",
      "Epoch 141/200\n",
      "201/201 [==============================] - 1s 6ms/step - loss: 8925876.0000 - mae: 1908.8470 - val_loss: 8583671.0000 - val_mae: 1879.8892\n",
      "Epoch 142/200\n",
      "201/201 [==============================] - 1s 7ms/step - loss: 8915253.0000 - mae: 1905.5739 - val_loss: 8575281.0000 - val_mae: 1880.5458\n",
      "Epoch 143/200\n",
      "201/201 [==============================] - 1s 7ms/step - loss: 8907074.0000 - mae: 1902.7676 - val_loss: 8565190.0000 - val_mae: 1882.5175\n",
      "Epoch 144/200\n",
      "201/201 [==============================] - 1s 6ms/step - loss: 8900132.0000 - mae: 1906.2120 - val_loss: 8568638.0000 - val_mae: 1877.8892\n",
      "Epoch 145/200\n",
      "201/201 [==============================] - 1s 7ms/step - loss: 8898270.0000 - mae: 1902.7242 - val_loss: 8555097.0000 - val_mae: 1877.7251\n",
      "Epoch 146/200\n",
      "201/201 [==============================] - 1s 7ms/step - loss: 8880933.0000 - mae: 1898.8842 - val_loss: 8543326.0000 - val_mae: 1883.3799\n",
      "Epoch 147/200\n",
      "201/201 [==============================] - 1s 6ms/step - loss: 8876002.0000 - mae: 1904.1395 - val_loss: 8537481.0000 - val_mae: 1876.4296\n",
      "Epoch 148/200\n",
      "201/201 [==============================] - 1s 7ms/step - loss: 8867301.0000 - mae: 1900.1584 - val_loss: 8525459.0000 - val_mae: 1874.2076\n",
      "Epoch 149/200\n",
      "201/201 [==============================] - 1s 7ms/step - loss: 8852442.0000 - mae: 1901.8981 - val_loss: 8521850.0000 - val_mae: 1871.4894\n",
      "Epoch 150/200\n",
      "201/201 [==============================] - 1s 6ms/step - loss: 8846813.0000 - mae: 1896.3701 - val_loss: 8505877.0000 - val_mae: 1871.1301\n",
      "Epoch 151/200\n",
      "201/201 [==============================] - 1s 7ms/step - loss: 8829257.0000 - mae: 1898.9307 - val_loss: 8506601.0000 - val_mae: 1869.3154\n",
      "Epoch 152/200\n",
      "201/201 [==============================] - 1s 7ms/step - loss: 8820707.0000 - mae: 1895.4871 - val_loss: 8484076.0000 - val_mae: 1868.7346\n",
      "Epoch 153/200\n",
      "201/201 [==============================] - 1s 6ms/step - loss: 8806320.0000 - mae: 1896.7726 - val_loss: 8489305.0000 - val_mae: 1864.2537\n",
      "Epoch 154/200\n",
      "201/201 [==============================] - 1s 7ms/step - loss: 8793556.0000 - mae: 1895.1428 - val_loss: 8489396.0000 - val_mae: 1861.7217\n",
      "Epoch 155/200\n",
      "201/201 [==============================] - 1s 7ms/step - loss: 8785331.0000 - mae: 1889.0298 - val_loss: 8449804.0000 - val_mae: 1866.2659\n",
      "Epoch 156/200\n",
      "201/201 [==============================] - 1s 6ms/step - loss: 8766851.0000 - mae: 1888.2920 - val_loss: 8439712.0000 - val_mae: 1863.8309\n",
      "Epoch 157/200\n",
      "201/201 [==============================] - 1s 7ms/step - loss: 8756326.0000 - mae: 1894.3777 - val_loss: 8434228.0000 - val_mae: 1859.7679\n",
      "Epoch 158/200\n",
      "201/201 [==============================] - 1s 7ms/step - loss: 8738197.0000 - mae: 1888.0518 - val_loss: 8420529.0000 - val_mae: 1857.9695\n",
      "Epoch 159/200\n",
      "201/201 [==============================] - 1s 6ms/step - loss: 8726419.0000 - mae: 1886.2826 - val_loss: 8403407.0000 - val_mae: 1856.2538\n",
      "Epoch 160/200\n",
      "201/201 [==============================] - 1s 7ms/step - loss: 8709558.0000 - mae: 1881.0348 - val_loss: 8385748.5000 - val_mae: 1857.9426\n",
      "Epoch 161/200\n",
      "201/201 [==============================] - 1s 7ms/step - loss: 8693126.0000 - mae: 1883.6737 - val_loss: 8379632.0000 - val_mae: 1852.8217\n",
      "Epoch 162/200\n",
      "201/201 [==============================] - 1s 6ms/step - loss: 8679623.0000 - mae: 1878.3218 - val_loss: 8357603.5000 - val_mae: 1854.9987\n",
      "Epoch 163/200\n",
      "201/201 [==============================] - 1s 7ms/step - loss: 8666340.0000 - mae: 1879.1442 - val_loss: 8346738.5000 - val_mae: 1851.4276\n",
      "Epoch 164/200\n",
      "201/201 [==============================] - 1s 7ms/step - loss: 8650427.0000 - mae: 1877.6722 - val_loss: 8344106.0000 - val_mae: 1849.5859\n",
      "Epoch 165/200\n",
      "201/201 [==============================] - 1s 6ms/step - loss: 8634789.0000 - mae: 1874.5835 - val_loss: 8325826.5000 - val_mae: 1847.5663\n",
      "Epoch 166/200\n",
      "201/201 [==============================] - 1s 7ms/step - loss: 8617192.0000 - mae: 1874.0403 - val_loss: 8304033.5000 - val_mae: 1848.5231\n",
      "Epoch 167/200\n",
      "201/201 [==============================] - 1s 7ms/step - loss: 8602424.0000 - mae: 1874.8221 - val_loss: 8296270.5000 - val_mae: 1843.7944\n",
      "Epoch 168/200\n",
      "201/201 [==============================] - 1s 6ms/step - loss: 8585387.0000 - mae: 1867.5392 - val_loss: 8274947.5000 - val_mae: 1844.6597\n",
      "Epoch 169/200\n",
      "201/201 [==============================] - 1s 7ms/step - loss: 8575667.0000 - mae: 1871.2982 - val_loss: 8270062.5000 - val_mae: 1841.5726\n",
      "Epoch 170/200\n",
      "201/201 [==============================] - 1s 7ms/step - loss: 8551296.0000 - mae: 1862.7350 - val_loss: 8248785.5000 - val_mae: 1846.1042\n",
      "Epoch 171/200\n",
      "201/201 [==============================] - 1s 7ms/step - loss: 8544823.0000 - mae: 1868.6212 - val_loss: 8240495.5000 - val_mae: 1840.2258\n",
      "Epoch 172/200\n",
      "201/201 [==============================] - 1s 7ms/step - loss: 8523316.0000 - mae: 1862.1989 - val_loss: 8220841.5000 - val_mae: 1839.5284\n",
      "Epoch 173/200\n",
      "201/201 [==============================] - 1s 7ms/step - loss: 8512555.0000 - mae: 1865.6565 - val_loss: 8220180.5000 - val_mae: 1832.3473\n",
      "Epoch 174/200\n",
      "201/201 [==============================] - 1s 7ms/step - loss: 8494842.0000 - mae: 1855.8429 - val_loss: 8192877.0000 - val_mae: 1838.9082\n",
      "Epoch 175/200\n",
      "201/201 [==============================] - 1s 7ms/step - loss: 8480821.0000 - mae: 1861.4376 - val_loss: 8195940.5000 - val_mae: 1830.5211\n",
      "Epoch 176/200\n",
      "201/201 [==============================] - 1s 6ms/step - loss: 8462083.0000 - mae: 1856.3065 - val_loss: 8177531.5000 - val_mae: 1830.4338\n",
      "Epoch 177/200\n",
      "201/201 [==============================] - 1s 7ms/step - loss: 8450052.0000 - mae: 1854.2789 - val_loss: 8151450.0000 - val_mae: 1833.5306\n",
      "Epoch 178/200\n",
      "201/201 [==============================] - 1s 7ms/step - loss: 8433550.0000 - mae: 1852.2089 - val_loss: 8137065.5000 - val_mae: 1831.2546\n",
      "Epoch 179/200\n",
      "201/201 [==============================] - 1s 7ms/step - loss: 8419122.0000 - mae: 1855.6003 - val_loss: 8124795.5000 - val_mae: 1825.1848\n",
      "Epoch 180/200\n",
      "201/201 [==============================] - 1s 7ms/step - loss: 8403067.0000 - mae: 1851.3726 - val_loss: 8120627.5000 - val_mae: 1820.5704\n",
      "Epoch 181/200\n",
      "201/201 [==============================] - 1s 7ms/step - loss: 8387779.5000 - mae: 1849.5946 - val_loss: 8098569.0000 - val_mae: 1821.7531\n",
      "Epoch 182/200\n",
      "201/201 [==============================] - 2s 8ms/step - loss: 8369104.0000 - mae: 1848.3342 - val_loss: 8086730.5000 - val_mae: 1818.1475\n",
      "Epoch 183/200\n",
      "201/201 [==============================] - 1s 7ms/step - loss: 8352904.0000 - mae: 1841.7170 - val_loss: 8068037.0000 - val_mae: 1817.7277\n",
      "Epoch 184/200\n",
      "201/201 [==============================] - 1s 7ms/step - loss: 8338939.0000 - mae: 1841.9352 - val_loss: 8059655.5000 - val_mae: 1816.5786\n",
      "Epoch 185/200\n",
      "201/201 [==============================] - 1s 7ms/step - loss: 8324404.0000 - mae: 1840.7742 - val_loss: 8037679.5000 - val_mae: 1816.7135\n",
      "Epoch 186/200\n",
      "201/201 [==============================] - 1s 7ms/step - loss: 8303951.0000 - mae: 1837.2075 - val_loss: 8026777.5000 - val_mae: 1813.8450\n",
      "Epoch 187/200\n",
      "201/201 [==============================] - 1s 7ms/step - loss: 8284839.0000 - mae: 1839.1967 - val_loss: 8023297.0000 - val_mae: 1807.8412\n",
      "Epoch 188/200\n",
      "201/201 [==============================] - 1s 7ms/step - loss: 8271417.5000 - mae: 1834.3113 - val_loss: 8005556.5000 - val_mae: 1806.5604\n",
      "Epoch 189/200\n",
      "201/201 [==============================] - 1s 7ms/step - loss: 8255208.0000 - mae: 1831.8123 - val_loss: 7981558.0000 - val_mae: 1806.7388\n",
      "Epoch 190/200\n",
      "201/201 [==============================] - 1s 6ms/step - loss: 8240027.5000 - mae: 1834.6609 - val_loss: 7974642.5000 - val_mae: 1802.2791\n",
      "Epoch 191/200\n",
      "201/201 [==============================] - 1s 7ms/step - loss: 8223358.5000 - mae: 1829.8088 - val_loss: 7946616.0000 - val_mae: 1805.0947\n",
      "Epoch 192/200\n",
      "201/201 [==============================] - 1s 7ms/step - loss: 8207477.0000 - mae: 1825.6018 - val_loss: 7927295.0000 - val_mae: 1808.7175\n",
      "Epoch 193/200\n",
      "201/201 [==============================] - 1s 6ms/step - loss: 8189529.0000 - mae: 1829.3098 - val_loss: 7919753.5000 - val_mae: 1799.3357\n",
      "Epoch 194/200\n",
      "201/201 [==============================] - 1s 7ms/step - loss: 8174568.5000 - mae: 1825.1536 - val_loss: 7911277.0000 - val_mae: 1795.9655\n",
      "Epoch 195/200\n",
      "201/201 [==============================] - 1s 7ms/step - loss: 8154175.5000 - mae: 1819.7544 - val_loss: 7881648.5000 - val_mae: 1802.2396\n",
      "Epoch 196/200\n",
      "201/201 [==============================] - 1s 7ms/step - loss: 8144840.0000 - mae: 1823.2787 - val_loss: 7887319.0000 - val_mae: 1792.4951\n",
      "Epoch 197/200\n",
      "201/201 [==============================] - 1s 7ms/step - loss: 8122403.0000 - mae: 1818.6353 - val_loss: 7853311.5000 - val_mae: 1795.4960\n",
      "Epoch 198/200\n",
      "201/201 [==============================] - 1s 7ms/step - loss: 8103862.5000 - mae: 1820.2750 - val_loss: 7853886.5000 - val_mae: 1788.7373\n",
      "Epoch 199/200\n",
      "201/201 [==============================] - 1s 7ms/step - loss: 8092255.0000 - mae: 1813.1620 - val_loss: 7823412.5000 - val_mae: 1793.0574\n",
      "Epoch 200/200\n",
      "201/201 [==============================] - 1s 7ms/step - loss: 8073376.0000 - mae: 1815.7465 - val_loss: 7815466.5000 - val_mae: 1786.6335\n"
     ]
    }
   ],
   "source": [
    "model_history = model.fit(X_train,y_train,epochs = 200,validation_data = (X_valid,y_valid))"
   ]
  },
  {
   "cell_type": "code",
   "execution_count": 1,
   "id": "d01c9f50",
   "metadata": {},
   "outputs": [
    {
     "data": {
      "text/plain": [
       "4448.141046831956"
      ]
     },
     "execution_count": 1,
     "metadata": {},
     "output_type": "execute_result"
    }
   ],
   "source": []
  },
  {
   "cell_type": "code",
   "execution_count": 214,
   "id": "eec676bc",
   "metadata": {
    "scrolled": true
   },
   "outputs": [
    {
     "name": "stdout",
     "output_type": "stream",
     "text": [
      "1/1 [==============================] - 0s 83ms/step\n"
     ]
    },
    {
     "data": {
      "text/plain": [
       "array([[14573.544],\n",
       "       [ 9675.651],\n",
       "       [11048.831],\n",
       "       [10404.605],\n",
       "       [11579.236]], dtype=float32)"
      ]
     },
     "execution_count": 214,
     "metadata": {},
     "output_type": "execute_result"
    }
   ],
   "source": [
    "model.predict(X_test[:5])"
   ]
  },
  {
   "cell_type": "code",
   "execution_count": 215,
   "id": "12295194",
   "metadata": {},
   "outputs": [
    {
     "data": {
      "text/html": [
       "<div>\n",
       "<style scoped>\n",
       "    .dataframe tbody tr th:only-of-type {\n",
       "        vertical-align: middle;\n",
       "    }\n",
       "\n",
       "    .dataframe tbody tr th {\n",
       "        vertical-align: top;\n",
       "    }\n",
       "\n",
       "    .dataframe thead th {\n",
       "        text-align: right;\n",
       "    }\n",
       "</style>\n",
       "<table border=\"1\" class=\"dataframe\">\n",
       "  <thead>\n",
       "    <tr style=\"text-align: right;\">\n",
       "      <th></th>\n",
       "      <th>Price</th>\n",
       "    </tr>\n",
       "  </thead>\n",
       "  <tbody>\n",
       "    <tr>\n",
       "      <th>0</th>\n",
       "      <td>9134</td>\n",
       "    </tr>\n",
       "    <tr>\n",
       "      <th>1</th>\n",
       "      <td>9486</td>\n",
       "    </tr>\n",
       "    <tr>\n",
       "      <th>2</th>\n",
       "      <td>10697</td>\n",
       "    </tr>\n",
       "    <tr>\n",
       "      <th>3</th>\n",
       "      <td>11806</td>\n",
       "    </tr>\n",
       "    <tr>\n",
       "      <th>4</th>\n",
       "      <td>7594</td>\n",
       "    </tr>\n",
       "  </tbody>\n",
       "</table>\n",
       "</div>"
      ],
      "text/plain": [
       "   Price\n",
       "0   9134\n",
       "1   9486\n",
       "2  10697\n",
       "3  11806\n",
       "4   7594"
      ]
     },
     "execution_count": 215,
     "metadata": {},
     "output_type": "execute_result"
    }
   ],
   "source": [
    "y_test[:5]"
   ]
  },
  {
   "cell_type": "code",
   "execution_count": 134,
   "id": "e7fc85af",
   "metadata": {},
   "outputs": [
    {
     "name": "stdout",
     "output_type": "stream",
     "text": [
      "67/67 [==============================] - 0s 5ms/step - loss: 21080604.0000 - mae: 3711.9072\n"
     ]
    }
   ],
   "source": [
    "mae_test = model.evaluate(X_test,y_test)"
   ]
  },
  {
   "cell_type": "code",
   "execution_count": 216,
   "id": "98f292bd",
   "metadata": {},
   "outputs": [
    {
     "name": "stdout",
     "output_type": "stream",
     "text": [
      "67/67 [==============================] - 0s 4ms/step\n"
     ]
    }
   ],
   "source": [
    "y_pred = model.predict(X_test)"
   ]
  },
  {
   "cell_type": "code",
   "execution_count": 217,
   "id": "293120f3",
   "metadata": {
    "scrolled": true
   },
   "outputs": [
    {
     "data": {
      "image/png": "[encoded data removed]",
      "text/plain": [
       "<Figure size 864x576 with 1 Axes>"
      ]
     },
     "metadata": {
      "needs_background": "light"
     },
     "output_type": "display_data"
    }
   ],
   "source": [
    "pd.DataFrame(model_history.history).plot(figsize = (12,8))\n",
    "plt.grid(True)\n",
    "\n",
    "plt.show()"
   ]
  },
  {
   "cell_type": "code",
   "execution_count": null,
   "id": "c346bab4",
   "metadata": {},
   "outputs": [],
   "source": [
    "# Accuracy achieved is 47.2%"
   ]
  },
  {
   "cell_type": "code",
   "execution_count": 218,
   "id": "73aabe1b",
   "metadata": {},
   "outputs": [
    {
     "data": {
      "text/plain": [
       "0.47228905599708737"
      ]
     },
     "execution_count": 218,
     "metadata": {},
     "output_type": "execute_result"
    }
   ],
   "source": [
    "from sklearn import metrics\n",
    "metrics.r2_score(y_pred,y_test)"
   ]
  },
  {
   "cell_type": "code",
   "execution_count": 219,
   "id": "9184a6b0",
   "metadata": {},
   "outputs": [
    {
     "name": "stdout",
     "output_type": "stream",
     "text": [
      "67/67 [==============================] - 0s 4ms/step\n",
      "[2018.4048]\n",
      "67/67 [==============================] - 0s 4ms/step\n",
      "[23333.648]\n"
     ]
    }
   ],
   "source": [
    "print(min(model.predict(X_test[:])))\n",
    "print(max(model.predict(X_test[:])))"
   ]
  },
  {
   "cell_type": "code",
   "execution_count": 220,
   "id": "fdaa83dd",
   "metadata": {},
   "outputs": [
    {
     "name": "stdout",
     "output_type": "stream",
     "text": [
      "1759 52285\n"
     ]
    }
   ],
   "source": [
    "print(min(y_test['Price']),max(y_test['Price']))"
   ]
  },
  {
   "cell_type": "code",
   "execution_count": null,
   "id": "189eb920",
   "metadata": {},
   "outputs": [],
   "source": [
    "#Saving the model"
   ]
  },
  {
   "cell_type": "code",
   "execution_count": 221,
   "id": "0b76bab5",
   "metadata": {},
   "outputs": [],
   "source": [
    "model.save('flight_perceptron_model1.h5')"
   ]
  },
  {
   "cell_type": "code",
   "execution_count": 2,
   "id": "68e7180f",
   "metadata": {},
   "outputs": [],
   "source": [
    "from tensorflow import keras\n",
    "model = keras.models.load_model('flight_perceptron_model1.h5')"
   ]
  },
  {
   "cell_type": "code",
   "execution_count": null,
   "id": "40af11bc",
   "metadata": {},
   "outputs": [],
   "source": []
  },
  {
   "cell_type": "code",
   "execution_count": null,
   "id": "236251ab",
   "metadata": {},
   "outputs": [],
   "source": []
  },
  {
   "cell_type": "code",
   "execution_count": null,
   "id": "34aff659",
   "metadata": {},
   "outputs": [],
   "source": []
  },
  {
   "cell_type": "markdown",
   "id": "76c672b7",
   "metadata": {},
   "source": [
    "##### similarily we also tried training model  Without transforming the features\n",
    "##### But it did give good accuracy 51.39"
   ]
  },
  {
   "cell_type": "code",
   "execution_count": 144,
   "id": "68cfb84e",
   "metadata": {},
   "outputs": [],
   "source": [
    "#Without transforming the features\n",
    "import tensorflow as tf\n",
    "from tensorflow import keras\n",
    "import pandas as pd\n",
    "import numpy as np\n",
    "import matplotlib.pyplot as plt\n",
    "from sklearn.model_selection import train_test_split"
   ]
  },
  {
   "cell_type": "code",
   "execution_count": 145,
   "id": "d35c63a9",
   "metadata": {},
   "outputs": [],
   "source": [
    "model = keras.models.Sequential([\n",
    "    keras.layers.Dense(32,activation='relu',input_shape=[30]),\n",
    "    keras.layers.Dense(16,activation='relu'),\n",
    "    keras.layers.Dense(1)\n",
    "    \n",
    "])"
   ]
  },
  {
   "cell_type": "code",
   "execution_count": 22,
   "id": "35813ca2",
   "metadata": {},
   "outputs": [],
   "source": [
    "X_train = pd.read_csv('X_train.csv')\n",
    "y_train = pd.read_csv('y_train.csv')"
   ]
  },
  {
   "cell_type": "code",
   "execution_count": 23,
   "id": "79915ccb",
   "metadata": {},
   "outputs": [],
   "source": [
    "X_train,X_valid,y_train,y_valid = train_test_split(X_train,y_train,random_state = 42)"
   ]
  },
  {
   "cell_type": "code",
   "execution_count": 24,
   "id": "1d6057b6",
   "metadata": {},
   "outputs": [],
   "source": [
    "X_train1 = np.array(X_train)\n",
    "y_train1 = np.array(y_train)\n",
    "X_valid1 = np.array(X_valid)\n",
    "y_valid1 = np.array(y_valid)"
   ]
  },
  {
   "cell_type": "code",
   "execution_count": 25,
   "id": "eb26f5af",
   "metadata": {},
   "outputs": [
    {
     "name": "stdout",
     "output_type": "stream",
     "text": [
      "(6408, 30) [[750.   1.   5.  22.   9.  35.   9.   5.   0.   0.   0.   0.   1.   0.\n",
      "    0.   0.   0.   0.   0.   0.   0.   0.   1.   0.   1.   0.   0.   0.\n",
      "    0.   0.]\n",
      " [505.   1.   0.  19.  10.  35.  21.   5.   0.   0.   0.   0.   0.   0.\n",
      "    1.   0.   0.   0.   0.   0.   0.   1.   0.   0.   0.   1.   0.   0.\n",
      "    0.   0.]]\n",
      "(6408, 1) [[14151]\n",
      " [ 9103]]\n"
     ]
    }
   ],
   "source": [
    "print(X_train1.shape,X_train1[:2])\n",
    "print(y_train1.shape,y_train1[:2])"
   ]
  },
  {
   "cell_type": "code",
   "execution_count": 150,
   "id": "61f8d3b9",
   "metadata": {},
   "outputs": [],
   "source": [
    "model.compile(loss= 'mean_squared_error',\n",
    "              optimizer = 'adam',\n",
    "              metrics = ['mae'])"
   ]
  },
  {
   "cell_type": "code",
   "execution_count": 151,
   "id": "721927ae",
   "metadata": {
    "scrolled": true
   },
   "outputs": [
    {
     "name": "stdout",
     "output_type": "stream",
     "text": [
      "Epoch 1/200\n",
      "201/201 [==============================] - 2s 8ms/step - loss: 77006904.0000 - mae: 7542.8271 - val_loss: 35014156.0000 - val_mae: 4617.2979\n",
      "Epoch 2/200\n",
      "201/201 [==============================] - 1s 7ms/step - loss: 28227756.0000 - mae: 3885.3438 - val_loss: 24853626.0000 - val_mae: 3642.3008\n",
      "Epoch 3/200\n",
      "201/201 [==============================] - 1s 7ms/step - loss: 25865342.0000 - mae: 3608.4673 - val_loss: 23398532.0000 - val_mae: 3443.8669\n",
      "Epoch 4/200\n",
      "201/201 [==============================] - 1s 6ms/step - loss: 24336630.0000 - mae: 3406.3552 - val_loss: 21924462.0000 - val_mae: 3241.2249\n",
      "Epoch 5/200\n",
      "201/201 [==============================] - 1s 7ms/step - loss: 22803624.0000 - mae: 3220.1943 - val_loss: 20488574.0000 - val_mae: 3073.3333\n",
      "Epoch 6/200\n",
      "201/201 [==============================] - 1s 7ms/step - loss: 21463984.0000 - mae: 3091.7175 - val_loss: 19308576.0000 - val_mae: 2997.8320\n",
      "Epoch 7/200\n",
      "201/201 [==============================] - 1s 7ms/step - loss: 20399638.0000 - mae: 3025.0740 - val_loss: 18493922.0000 - val_mae: 2967.7754\n",
      "Epoch 8/200\n",
      "201/201 [==============================] - 1s 7ms/step - loss: 19716754.0000 - mae: 3008.5691 - val_loss: 18036926.0000 - val_mae: 2959.5535\n",
      "Epoch 9/200\n",
      "201/201 [==============================] - 1s 7ms/step - loss: 19374548.0000 - mae: 3014.8362 - val_loss: 17778018.0000 - val_mae: 2970.3630\n",
      "Epoch 10/200\n",
      "201/201 [==============================] - 1s 7ms/step - loss: 19118584.0000 - mae: 3012.7498 - val_loss: 17559550.0000 - val_mae: 2955.4880\n",
      "Epoch 11/200\n",
      "201/201 [==============================] - 1s 7ms/step - loss: 18901018.0000 - mae: 2998.3018 - val_loss: 17392664.0000 - val_mae: 2961.5835\n",
      "Epoch 12/200\n",
      "201/201 [==============================] - 1s 7ms/step - loss: 18695570.0000 - mae: 2988.7251 - val_loss: 17196132.0000 - val_mae: 2903.9490\n",
      "Epoch 13/200\n",
      "201/201 [==============================] - 1s 7ms/step - loss: 18485946.0000 - mae: 2962.4297 - val_loss: 16949438.0000 - val_mae: 2893.3342\n",
      "Epoch 14/200\n",
      "201/201 [==============================] - 1s 7ms/step - loss: 18235282.0000 - mae: 2943.9866 - val_loss: 16769779.0000 - val_mae: 2911.7324\n",
      "Epoch 15/200\n",
      "201/201 [==============================] - 1s 7ms/step - loss: 18012152.0000 - mae: 2918.8240 - val_loss: 16746752.0000 - val_mae: 2940.9219\n",
      "Epoch 16/200\n",
      "201/201 [==============================] - 1s 6ms/step - loss: 17773848.0000 - mae: 2906.4727 - val_loss: 16279513.0000 - val_mae: 2842.5444\n",
      "Epoch 17/200\n",
      "201/201 [==============================] - 1s 7ms/step - loss: 17566040.0000 - mae: 2881.1416 - val_loss: 16079435.0000 - val_mae: 2845.7241\n",
      "Epoch 18/200\n",
      "201/201 [==============================] - 1s 7ms/step - loss: 17318834.0000 - mae: 2856.1785 - val_loss: 15867704.0000 - val_mae: 2790.0977\n",
      "Epoch 19/200\n",
      "201/201 [==============================] - 1s 6ms/step - loss: 17080848.0000 - mae: 2837.8000 - val_loss: 15602459.0000 - val_mae: 2784.2915\n",
      "Epoch 20/200\n",
      "201/201 [==============================] - 1s 7ms/step - loss: 16874122.0000 - mae: 2816.5103 - val_loss: 15397244.0000 - val_mae: 2746.7693\n",
      "Epoch 21/200\n",
      "201/201 [==============================] - 1s 6ms/step - loss: 16601924.0000 - mae: 2784.4751 - val_loss: 15178801.0000 - val_mae: 2725.1467\n",
      "Epoch 22/200\n",
      "201/201 [==============================] - 1s 6ms/step - loss: 16373770.0000 - mae: 2761.2722 - val_loss: 14977933.0000 - val_mae: 2731.8909\n",
      "Epoch 23/200\n",
      "201/201 [==============================] - 1s 7ms/step - loss: 16133927.0000 - mae: 2742.8779 - val_loss: 14749790.0000 - val_mae: 2673.0271\n",
      "Epoch 24/200\n",
      "201/201 [==============================] - 1s 7ms/step - loss: 15916836.0000 - mae: 2713.7634 - val_loss: 14696767.0000 - val_mae: 2720.5017\n",
      "Epoch 25/200\n",
      "201/201 [==============================] - 1s 6ms/step - loss: 15675540.0000 - mae: 2689.0730 - val_loss: 14300352.0000 - val_mae: 2642.7622\n",
      "Epoch 26/200\n",
      "201/201 [==============================] - 1s 7ms/step - loss: 15411733.0000 - mae: 2661.5012 - val_loss: 14106516.0000 - val_mae: 2604.2114\n",
      "Epoch 27/200\n",
      "201/201 [==============================] - 1s 7ms/step - loss: 15259032.0000 - mae: 2635.6689 - val_loss: 14145854.0000 - val_mae: 2657.0684\n",
      "Epoch 28/200\n",
      "201/201 [==============================] - 1s 7ms/step - loss: 15048970.0000 - mae: 2627.5491 - val_loss: 13794212.0000 - val_mae: 2561.5618\n",
      "Epoch 29/200\n",
      "201/201 [==============================] - 1s 7ms/step - loss: 14858961.0000 - mae: 2594.0684 - val_loss: 13552879.0000 - val_mae: 2535.6985\n",
      "Epoch 30/200\n",
      "201/201 [==============================] - 1s 7ms/step - loss: 14618968.0000 - mae: 2560.2214 - val_loss: 13372316.0000 - val_mae: 2498.3809\n",
      "Epoch 31/200\n",
      "201/201 [==============================] - 1s 7ms/step - loss: 14407450.0000 - mae: 2538.5071 - val_loss: 13208052.0000 - val_mae: 2480.6003\n",
      "Epoch 32/200\n",
      "201/201 [==============================] - 1s 7ms/step - loss: 14221393.0000 - mae: 2512.7710 - val_loss: 13121018.0000 - val_mae: 2494.6575\n",
      "Epoch 33/200\n",
      "201/201 [==============================] - 1s 7ms/step - loss: 14086652.0000 - mae: 2501.7231 - val_loss: 12932615.0000 - val_mae: 2451.7439\n",
      "Epoch 34/200\n",
      "201/201 [==============================] - 1s 7ms/step - loss: 13935881.0000 - mae: 2477.9006 - val_loss: 12841888.0000 - val_mae: 2436.3533\n",
      "Epoch 35/200\n",
      "201/201 [==============================] - 1s 7ms/step - loss: 13863386.0000 - mae: 2478.3198 - val_loss: 12754996.0000 - val_mae: 2429.7092\n",
      "Epoch 36/200\n",
      "201/201 [==============================] - 1s 7ms/step - loss: 13710491.0000 - mae: 2456.2322 - val_loss: 12722091.0000 - val_mae: 2406.0193\n",
      "Epoch 37/200\n",
      "201/201 [==============================] - 1s 7ms/step - loss: 13658475.0000 - mae: 2450.2949 - val_loss: 12677122.0000 - val_mae: 2442.9316\n",
      "Epoch 38/200\n",
      "201/201 [==============================] - 1s 7ms/step - loss: 13586095.0000 - mae: 2444.5171 - val_loss: 12704311.0000 - val_mae: 2388.7148\n",
      "Epoch 39/200\n",
      "201/201 [==============================] - 1s 7ms/step - loss: 13492779.0000 - mae: 2432.3540 - val_loss: 12434666.0000 - val_mae: 2397.0129\n",
      "Epoch 40/200\n",
      "201/201 [==============================] - 1s 6ms/step - loss: 13395793.0000 - mae: 2425.3083 - val_loss: 12347656.0000 - val_mae: 2374.9260\n",
      "Epoch 41/200\n",
      "201/201 [==============================] - 1s 7ms/step - loss: 13285992.0000 - mae: 2410.4285 - val_loss: 12263976.0000 - val_mae: 2371.2563\n",
      "Epoch 42/200\n",
      "201/201 [==============================] - 1s 7ms/step - loss: 13204594.0000 - mae: 2400.6946 - val_loss: 12343830.0000 - val_mae: 2356.3782\n",
      "Epoch 43/200\n",
      "201/201 [==============================] - 1s 6ms/step - loss: 13161646.0000 - mae: 2400.2173 - val_loss: 12205868.0000 - val_mae: 2378.8826\n",
      "Epoch 44/200\n",
      "201/201 [==============================] - 1s 6ms/step - loss: 13099092.0000 - mae: 2395.7942 - val_loss: 12086379.0000 - val_mae: 2348.6501\n",
      "Epoch 45/200\n",
      "201/201 [==============================] - 1s 7ms/step - loss: 13011031.0000 - mae: 2381.7666 - val_loss: 12141903.0000 - val_mae: 2372.9065\n",
      "Epoch 46/200\n",
      "201/201 [==============================] - 1s 6ms/step - loss: 12968743.0000 - mae: 2376.8040 - val_loss: 12268404.0000 - val_mae: 2333.9495\n",
      "Epoch 47/200\n",
      "201/201 [==============================] - 1s 7ms/step - loss: 12917483.0000 - mae: 2371.8765 - val_loss: 11988603.0000 - val_mae: 2315.6624\n",
      "Epoch 48/200\n",
      "201/201 [==============================] - 1s 7ms/step - loss: 12863240.0000 - mae: 2368.5469 - val_loss: 11891908.0000 - val_mae: 2306.9434\n",
      "Epoch 49/200\n",
      "201/201 [==============================] - 1s 7ms/step - loss: 12770901.0000 - mae: 2356.5671 - val_loss: 11819982.0000 - val_mae: 2299.9695\n",
      "Epoch 50/200\n",
      "201/201 [==============================] - 1s 7ms/step - loss: 12707389.0000 - mae: 2346.5420 - val_loss: 11743858.0000 - val_mae: 2303.8081\n",
      "Epoch 51/200\n",
      "201/201 [==============================] - 1s 7ms/step - loss: 12612554.0000 - mae: 2337.5408 - val_loss: 11700101.0000 - val_mae: 2294.5613\n",
      "Epoch 52/200\n",
      "201/201 [==============================] - 1s 7ms/step - loss: 12554672.0000 - mae: 2332.3743 - val_loss: 11739009.0000 - val_mae: 2327.3948\n",
      "Epoch 53/200\n",
      "201/201 [==============================] - 1s 7ms/step - loss: 12522086.0000 - mae: 2327.6611 - val_loss: 11607073.0000 - val_mae: 2300.2402\n",
      "Epoch 54/200\n",
      "201/201 [==============================] - 1s 7ms/step - loss: 12417186.0000 - mae: 2316.1882 - val_loss: 11789026.0000 - val_mae: 2270.1934\n",
      "Epoch 55/200\n",
      "201/201 [==============================] - 1s 6ms/step - loss: 12375530.0000 - mae: 2308.4829 - val_loss: 11451438.0000 - val_mae: 2273.2129\n",
      "Epoch 56/200\n",
      "201/201 [==============================] - 1s 7ms/step - loss: 12301081.0000 - mae: 2303.1902 - val_loss: 11444087.0000 - val_mae: 2282.6460\n",
      "Epoch 57/200\n",
      "201/201 [==============================] - 1s 7ms/step - loss: 12228836.0000 - mae: 2298.0283 - val_loss: 11336175.0000 - val_mae: 2255.8855\n",
      "Epoch 58/200\n",
      "201/201 [==============================] - 1s 7ms/step - loss: 12184287.0000 - mae: 2287.2163 - val_loss: 11293447.0000 - val_mae: 2255.3257\n",
      "Epoch 59/200\n",
      "201/201 [==============================] - 1s 7ms/step - loss: 12100829.0000 - mae: 2281.9141 - val_loss: 11239958.0000 - val_mae: 2229.4221\n",
      "Epoch 60/200\n",
      "201/201 [==============================] - 1s 7ms/step - loss: 12062385.0000 - mae: 2278.2585 - val_loss: 11161260.0000 - val_mae: 2217.4231\n",
      "Epoch 61/200\n",
      "201/201 [==============================] - 1s 7ms/step - loss: 11983505.0000 - mae: 2260.0833 - val_loss: 11132249.0000 - val_mae: 2212.7627\n",
      "Epoch 62/200\n",
      "201/201 [==============================] - 1s 7ms/step - loss: 11918682.0000 - mae: 2259.9050 - val_loss: 11382432.0000 - val_mae: 2214.4404\n",
      "Epoch 63/200\n",
      "201/201 [==============================] - 1s 7ms/step - loss: 11877154.0000 - mae: 2251.2322 - val_loss: 10980675.0000 - val_mae: 2197.3267\n",
      "Epoch 64/200\n",
      "201/201 [==============================] - 1s 7ms/step - loss: 11743999.0000 - mae: 2239.7988 - val_loss: 10929283.0000 - val_mae: 2198.2800\n",
      "Epoch 65/200\n",
      "201/201 [==============================] - 1s 7ms/step - loss: 11674510.0000 - mae: 2226.5955 - val_loss: 10890096.0000 - val_mae: 2202.9810\n",
      "Epoch 66/200\n",
      "201/201 [==============================] - 1s 7ms/step - loss: 11666366.0000 - mae: 2231.9141 - val_loss: 10806298.0000 - val_mae: 2166.0103\n",
      "Epoch 67/200\n",
      "201/201 [==============================] - 1s 7ms/step - loss: 11593454.0000 - mae: 2218.8687 - val_loss: 10724203.0000 - val_mae: 2164.5554\n",
      "Epoch 68/200\n",
      "201/201 [==============================] - 1s 6ms/step - loss: 11485937.0000 - mae: 2201.6941 - val_loss: 10764907.0000 - val_mae: 2194.4021\n",
      "Epoch 69/200\n",
      "201/201 [==============================] - 1s 7ms/step - loss: 11488274.0000 - mae: 2211.7761 - val_loss: 10635275.0000 - val_mae: 2146.2397\n",
      "Epoch 70/200\n",
      "201/201 [==============================] - 1s 7ms/step - loss: 11364256.0000 - mae: 2191.9089 - val_loss: 10574838.0000 - val_mae: 2134.2046\n",
      "Epoch 71/200\n",
      "201/201 [==============================] - 1s 7ms/step - loss: 11283363.0000 - mae: 2176.1775 - val_loss: 10558347.0000 - val_mae: 2126.6956\n",
      "Epoch 72/200\n",
      "201/201 [==============================] - 1s 7ms/step - loss: 11266807.0000 - mae: 2178.8550 - val_loss: 10573193.0000 - val_mae: 2120.2349\n",
      "Epoch 73/200\n",
      "201/201 [==============================] - 1s 7ms/step - loss: 11179521.0000 - mae: 2167.3989 - val_loss: 10394355.0000 - val_mae: 2127.1331\n",
      "Epoch 74/200\n",
      "201/201 [==============================] - 1s 6ms/step - loss: 11084510.0000 - mae: 2154.1831 - val_loss: 10445234.0000 - val_mae: 2106.0657\n",
      "Epoch 75/200\n",
      "201/201 [==============================] - 1s 7ms/step - loss: 11068162.0000 - mae: 2153.9490 - val_loss: 10314516.0000 - val_mae: 2095.2544\n",
      "Epoch 76/200\n",
      "201/201 [==============================] - 1s 7ms/step - loss: 11004748.0000 - mae: 2140.1643 - val_loss: 10242856.0000 - val_mae: 2105.1548\n",
      "Epoch 77/200\n",
      "201/201 [==============================] - 1s 7ms/step - loss: 10953348.0000 - mae: 2139.0989 - val_loss: 10213882.0000 - val_mae: 2110.3591\n",
      "Epoch 78/200\n",
      "201/201 [==============================] - 1s 7ms/step - loss: 10833663.0000 - mae: 2121.9431 - val_loss: 10270794.0000 - val_mae: 2129.8230\n",
      "Epoch 79/200\n",
      "201/201 [==============================] - 1s 7ms/step - loss: 10808288.0000 - mae: 2122.8911 - val_loss: 10203294.0000 - val_mae: 2074.2004\n",
      "Epoch 80/200\n",
      "201/201 [==============================] - 1s 7ms/step - loss: 10713626.0000 - mae: 2107.8308 - val_loss: 10042153.0000 - val_mae: 2067.5959\n",
      "Epoch 81/200\n",
      "201/201 [==============================] - 1s 7ms/step - loss: 10705824.0000 - mae: 2105.9504 - val_loss: 10006167.0000 - val_mae: 2062.3423\n",
      "Epoch 82/200\n",
      "201/201 [==============================] - 1s 7ms/step - loss: 10664483.0000 - mae: 2102.8628 - val_loss: 9954745.0000 - val_mae: 2064.7078\n",
      "Epoch 83/200\n",
      "201/201 [==============================] - 1s 6ms/step - loss: 10568287.0000 - mae: 2091.7168 - val_loss: 9923006.0000 - val_mae: 2057.8840\n",
      "Epoch 84/200\n",
      "201/201 [==============================] - 1s 7ms/step - loss: 10564813.0000 - mae: 2091.1240 - val_loss: 9896121.0000 - val_mae: 2053.8992\n",
      "Epoch 85/200\n",
      "201/201 [==============================] - 1s 7ms/step - loss: 10522342.0000 - mae: 2090.1931 - val_loss: 9864007.0000 - val_mae: 2053.7715\n",
      "Epoch 86/200\n",
      "201/201 [==============================] - 1s 6ms/step - loss: 10439715.0000 - mae: 2075.9407 - val_loss: 9849512.0000 - val_mae: 2047.1174\n",
      "Epoch 87/200\n",
      "201/201 [==============================] - 1s 7ms/step - loss: 10378896.0000 - mae: 2072.3176 - val_loss: 9840714.0000 - val_mae: 2029.6378\n",
      "Epoch 88/200\n",
      "201/201 [==============================] - 1s 7ms/step - loss: 10397686.0000 - mae: 2073.1392 - val_loss: 9774852.0000 - val_mae: 2040.4763\n",
      "Epoch 89/200\n",
      "201/201 [==============================] - 1s 6ms/step - loss: 10304127.0000 - mae: 2063.3069 - val_loss: 9752072.0000 - val_mae: 2035.1235\n",
      "Epoch 90/200\n",
      "201/201 [==============================] - 1s 7ms/step - loss: 10247591.0000 - mae: 2054.3818 - val_loss: 9771315.0000 - val_mae: 2019.5475\n",
      "Epoch 91/200\n",
      "201/201 [==============================] - 1s 7ms/step - loss: 10248569.0000 - mae: 2057.1541 - val_loss: 9699109.0000 - val_mae: 2031.6694\n",
      "Epoch 92/200\n",
      "201/201 [==============================] - 1s 6ms/step - loss: 10241689.0000 - mae: 2061.0479 - val_loss: 9712191.0000 - val_mae: 2042.1729\n",
      "Epoch 93/200\n",
      "201/201 [==============================] - 1s 7ms/step - loss: 10170794.0000 - mae: 2047.6793 - val_loss: 9680412.0000 - val_mae: 2013.2424\n",
      "Epoch 94/200\n",
      "201/201 [==============================] - 1s 7ms/step - loss: 10168270.0000 - mae: 2048.0564 - val_loss: 9648787.0000 - val_mae: 2014.7218\n",
      "Epoch 95/200\n",
      "201/201 [==============================] - 1s 6ms/step - loss: 10058963.0000 - mae: 2042.2098 - val_loss: 9671623.0000 - val_mae: 2001.5283\n",
      "Epoch 96/200\n",
      "201/201 [==============================] - 1s 7ms/step - loss: 10014567.0000 - mae: 2031.9557 - val_loss: 9780001.0000 - val_mae: 2009.2880\n",
      "Epoch 97/200\n",
      "201/201 [==============================] - 1s 7ms/step - loss: 9991006.0000 - mae: 2030.8793 - val_loss: 9560858.0000 - val_mae: 2011.2782\n",
      "Epoch 98/200\n",
      "201/201 [==============================] - 1s 6ms/step - loss: 9983765.0000 - mae: 2030.7942 - val_loss: 9649912.0000 - val_mae: 2005.7997\n",
      "Epoch 99/200\n",
      "201/201 [==============================] - 1s 7ms/step - loss: 9941866.0000 - mae: 2026.6251 - val_loss: 9780565.0000 - val_mae: 2072.6729\n",
      "Epoch 100/200\n",
      "201/201 [==============================] - 1s 7ms/step - loss: 9894734.0000 - mae: 2024.3199 - val_loss: 9650214.0000 - val_mae: 2046.3387\n",
      "Epoch 101/200\n",
      "201/201 [==============================] - 1s 6ms/step - loss: 9871348.0000 - mae: 2025.6742 - val_loss: 9484723.0000 - val_mae: 1995.5383\n",
      "Epoch 102/200\n",
      "201/201 [==============================] - 1s 7ms/step - loss: 9839017.0000 - mae: 2014.5081 - val_loss: 9488921.0000 - val_mae: 2010.8805\n",
      "Epoch 103/200\n",
      "201/201 [==============================] - 1s 7ms/step - loss: 9777599.0000 - mae: 2013.1232 - val_loss: 9519925.0000 - val_mae: 1988.0784\n",
      "Epoch 104/200\n",
      "201/201 [==============================] - 1s 6ms/step - loss: 9799932.0000 - mae: 2012.4469 - val_loss: 9599370.0000 - val_mae: 1990.2917\n",
      "Epoch 105/200\n",
      "201/201 [==============================] - 1s 7ms/step - loss: 9781787.0000 - mae: 2017.3885 - val_loss: 9440097.0000 - val_mae: 1996.2856\n",
      "Epoch 106/200\n",
      "201/201 [==============================] - 1s 7ms/step - loss: 9706058.0000 - mae: 2004.7644 - val_loss: 9403561.0000 - val_mae: 1982.3448\n",
      "Epoch 107/200\n"
     ]
    },
    {
     "name": "stdout",
     "output_type": "stream",
     "text": [
      "201/201 [==============================] - 1s 6ms/step - loss: 9680860.0000 - mae: 2004.2964 - val_loss: 9467341.0000 - val_mae: 2020.6825\n",
      "Epoch 108/200\n",
      "201/201 [==============================] - 1s 7ms/step - loss: 9620694.0000 - mae: 1992.8033 - val_loss: 9431479.0000 - val_mae: 2015.0597\n",
      "Epoch 109/200\n",
      "201/201 [==============================] - 1s 6ms/step - loss: 9635077.0000 - mae: 2001.0134 - val_loss: 9456866.0000 - val_mae: 1984.5465\n",
      "Epoch 110/200\n",
      "201/201 [==============================] - 1s 6ms/step - loss: 9614438.0000 - mae: 2000.7069 - val_loss: 9468560.0000 - val_mae: 1985.3357\n",
      "Epoch 111/200\n",
      "201/201 [==============================] - 1s 7ms/step - loss: 9559780.0000 - mae: 1993.1779 - val_loss: 9320597.0000 - val_mae: 1995.2108\n",
      "Epoch 112/200\n",
      "201/201 [==============================] - 1s 6ms/step - loss: 9532025.0000 - mae: 1992.9426 - val_loss: 9292546.0000 - val_mae: 1992.0765\n",
      "Epoch 113/200\n",
      "201/201 [==============================] - 1s 7ms/step - loss: 9503443.0000 - mae: 1990.3353 - val_loss: 9246032.0000 - val_mae: 1969.0885\n",
      "Epoch 114/200\n",
      "201/201 [==============================] - 1s 7ms/step - loss: 9490436.0000 - mae: 1991.5364 - val_loss: 9231667.0000 - val_mae: 1963.9934\n",
      "Epoch 115/200\n",
      "201/201 [==============================] - 1s 6ms/step - loss: 9442156.0000 - mae: 1983.3419 - val_loss: 9277744.0000 - val_mae: 1992.7639\n",
      "Epoch 116/200\n",
      "201/201 [==============================] - 1s 7ms/step - loss: 9377620.0000 - mae: 1976.9426 - val_loss: 9195553.0000 - val_mae: 1967.8346\n",
      "Epoch 117/200\n",
      "201/201 [==============================] - 1s 7ms/step - loss: 9403481.0000 - mae: 1980.4126 - val_loss: 9168100.0000 - val_mae: 1963.2325\n",
      "Epoch 118/200\n",
      "201/201 [==============================] - 1s 6ms/step - loss: 9344984.0000 - mae: 1974.0912 - val_loss: 9185998.0000 - val_mae: 1962.8601\n",
      "Epoch 119/200\n",
      "201/201 [==============================] - 1s 7ms/step - loss: 9314947.0000 - mae: 1970.2524 - val_loss: 9166633.0000 - val_mae: 1979.4656\n",
      "Epoch 120/200\n",
      "201/201 [==============================] - 1s 7ms/step - loss: 9326863.0000 - mae: 1978.3323 - val_loss: 9148055.0000 - val_mae: 1975.9651\n",
      "Epoch 121/200\n",
      "201/201 [==============================] - 1s 6ms/step - loss: 9269256.0000 - mae: 1965.6630 - val_loss: 9214389.0000 - val_mae: 1954.5497\n",
      "Epoch 122/200\n",
      "201/201 [==============================] - 1s 7ms/step - loss: 9251600.0000 - mae: 1968.6307 - val_loss: 9125189.0000 - val_mae: 1964.9553\n",
      "Epoch 123/200\n",
      "201/201 [==============================] - 1s 7ms/step - loss: 9180312.0000 - mae: 1962.1105 - val_loss: 9141981.0000 - val_mae: 1955.0931\n",
      "Epoch 124/200\n",
      "201/201 [==============================] - 1s 6ms/step - loss: 9193085.0000 - mae: 1960.0695 - val_loss: 9079504.0000 - val_mae: 1951.3984\n",
      "Epoch 125/200\n",
      "201/201 [==============================] - 1s 7ms/step - loss: 9157177.0000 - mae: 1957.4144 - val_loss: 9039025.0000 - val_mae: 1949.9974\n",
      "Epoch 126/200\n",
      "201/201 [==============================] - 1s 7ms/step - loss: 9188400.0000 - mae: 1960.7433 - val_loss: 9143392.0000 - val_mae: 1951.4053\n",
      "Epoch 127/200\n",
      "201/201 [==============================] - 1s 6ms/step - loss: 9068036.0000 - mae: 1947.1470 - val_loss: 9039460.0000 - val_mae: 1947.7307\n",
      "Epoch 128/200\n",
      "201/201 [==============================] - 1s 7ms/step - loss: 9065625.0000 - mae: 1944.9514 - val_loss: 9168018.0000 - val_mae: 1996.1666\n",
      "Epoch 129/200\n",
      "201/201 [==============================] - 1s 7ms/step - loss: 9073288.0000 - mae: 1950.9730 - val_loss: 9046336.0000 - val_mae: 1959.2676\n",
      "Epoch 130/200\n",
      "201/201 [==============================] - 1s 6ms/step - loss: 9035430.0000 - mae: 1944.2803 - val_loss: 9030560.0000 - val_mae: 1937.2277\n",
      "Epoch 131/200\n",
      "201/201 [==============================] - 1s 7ms/step - loss: 8972701.0000 - mae: 1935.7971 - val_loss: 8979498.0000 - val_mae: 1943.6707\n",
      "Epoch 132/200\n",
      "201/201 [==============================] - 1s 7ms/step - loss: 8943948.0000 - mae: 1937.7235 - val_loss: 8937873.0000 - val_mae: 1927.5248\n",
      "Epoch 133/200\n",
      "201/201 [==============================] - 1s 6ms/step - loss: 8952856.0000 - mae: 1938.1852 - val_loss: 9012035.0000 - val_mae: 1929.4656\n",
      "Epoch 134/200\n",
      "201/201 [==============================] - 1s 7ms/step - loss: 8911851.0000 - mae: 1931.0944 - val_loss: 9103314.0000 - val_mae: 1984.4673\n",
      "Epoch 135/200\n",
      "201/201 [==============================] - 1s 7ms/step - loss: 8875042.0000 - mae: 1928.2751 - val_loss: 8926376.0000 - val_mae: 1933.8489\n",
      "Epoch 136/200\n",
      "201/201 [==============================] - 1s 6ms/step - loss: 8912486.0000 - mae: 1932.7158 - val_loss: 8898617.0000 - val_mae: 1932.0626\n",
      "Epoch 137/200\n",
      "201/201 [==============================] - 1s 7ms/step - loss: 8869721.0000 - mae: 1926.9008 - val_loss: 8911565.0000 - val_mae: 1923.1830\n",
      "Epoch 138/200\n",
      "201/201 [==============================] - 1s 7ms/step - loss: 8810782.0000 - mae: 1921.3491 - val_loss: 8897275.0000 - val_mae: 1919.8497\n",
      "Epoch 139/200\n",
      "201/201 [==============================] - 1s 6ms/step - loss: 8788314.0000 - mae: 1917.6971 - val_loss: 8828366.0000 - val_mae: 1925.3524\n",
      "Epoch 140/200\n",
      "201/201 [==============================] - 1s 7ms/step - loss: 8800705.0000 - mae: 1923.4465 - val_loss: 9134349.0000 - val_mae: 1998.6282\n",
      "Epoch 141/200\n",
      "201/201 [==============================] - 1s 7ms/step - loss: 8786640.0000 - mae: 1921.0118 - val_loss: 8881634.0000 - val_mae: 1947.2838\n",
      "Epoch 142/200\n",
      "201/201 [==============================] - 1s 6ms/step - loss: 8801525.0000 - mae: 1919.2168 - val_loss: 8773167.0000 - val_mae: 1919.1759\n",
      "Epoch 143/200\n",
      "201/201 [==============================] - 1s 7ms/step - loss: 8723500.0000 - mae: 1910.5319 - val_loss: 8819449.0000 - val_mae: 1920.1562\n",
      "Epoch 144/200\n",
      "201/201 [==============================] - 2s 8ms/step - loss: 8682504.0000 - mae: 1905.7013 - val_loss: 8955521.0000 - val_mae: 1972.0245\n",
      "Epoch 145/200\n",
      "201/201 [==============================] - 1s 7ms/step - loss: 8688223.0000 - mae: 1909.6434 - val_loss: 9603891.0000 - val_mae: 1997.8091\n",
      "Epoch 146/200\n",
      "201/201 [==============================] - 1s 7ms/step - loss: 8644536.0000 - mae: 1904.3616 - val_loss: 8984959.0000 - val_mae: 1929.9496\n",
      "Epoch 147/200\n",
      "201/201 [==============================] - 1s 7ms/step - loss: 8641422.0000 - mae: 1905.0785 - val_loss: 8717745.0000 - val_mae: 1915.9677\n",
      "Epoch 148/200\n",
      "201/201 [==============================] - 1s 6ms/step - loss: 8617546.0000 - mae: 1900.8230 - val_loss: 8723193.0000 - val_mae: 1923.3147\n",
      "Epoch 149/200\n",
      "201/201 [==============================] - 1s 7ms/step - loss: 8645856.0000 - mae: 1905.5443 - val_loss: 8721652.0000 - val_mae: 1902.1790\n",
      "Epoch 150/200\n",
      "201/201 [==============================] - 1s 7ms/step - loss: 8629033.0000 - mae: 1899.3600 - val_loss: 8674646.0000 - val_mae: 1901.1008\n",
      "Epoch 151/200\n",
      "201/201 [==============================] - 1s 7ms/step - loss: 8535962.0000 - mae: 1893.3856 - val_loss: 8697456.0000 - val_mae: 1905.3981\n",
      "Epoch 152/200\n",
      "201/201 [==============================] - 1s 7ms/step - loss: 8540963.0000 - mae: 1893.2573 - val_loss: 8806415.0000 - val_mae: 1949.7306\n",
      "Epoch 153/200\n",
      "201/201 [==============================] - 1s 7ms/step - loss: 8535121.0000 - mae: 1894.6923 - val_loss: 8860806.0000 - val_mae: 1908.1423\n",
      "Epoch 154/200\n",
      "201/201 [==============================] - 1s 6ms/step - loss: 8530734.0000 - mae: 1895.5581 - val_loss: 8704183.0000 - val_mae: 1920.5421\n",
      "Epoch 155/200\n",
      "201/201 [==============================] - 1s 7ms/step - loss: 8463432.0000 - mae: 1884.5520 - val_loss: 8747665.0000 - val_mae: 1897.9042\n",
      "Epoch 156/200\n",
      "201/201 [==============================] - 1s 7ms/step - loss: 8480342.0000 - mae: 1884.8447 - val_loss: 8624907.0000 - val_mae: 1897.2936\n",
      "Epoch 157/200\n",
      "201/201 [==============================] - 1s 6ms/step - loss: 8516428.0000 - mae: 1896.6949 - val_loss: 8609673.0000 - val_mae: 1884.3698\n",
      "Epoch 158/200\n",
      "201/201 [==============================] - 1s 7ms/step - loss: 8460862.0000 - mae: 1882.2108 - val_loss: 8859441.0000 - val_mae: 1907.7612\n",
      "Epoch 159/200\n",
      "201/201 [==============================] - 1s 7ms/step - loss: 8418533.0000 - mae: 1880.6565 - val_loss: 8612059.0000 - val_mae: 1891.3884\n",
      "Epoch 160/200\n",
      "201/201 [==============================] - 1s 6ms/step - loss: 8408527.0000 - mae: 1875.4324 - val_loss: 8572052.0000 - val_mae: 1887.5703\n",
      "Epoch 161/200\n",
      "201/201 [==============================] - 1s 7ms/step - loss: 8373567.5000 - mae: 1873.3087 - val_loss: 8799895.0000 - val_mae: 1902.1996\n",
      "Epoch 162/200\n",
      "201/201 [==============================] - 1s 7ms/step - loss: 8378699.0000 - mae: 1876.0795 - val_loss: 8508492.0000 - val_mae: 1896.5743\n",
      "Epoch 163/200\n",
      "201/201 [==============================] - 1s 6ms/step - loss: 8375612.5000 - mae: 1875.5409 - val_loss: 8475899.0000 - val_mae: 1886.1218\n",
      "Epoch 164/200\n",
      "201/201 [==============================] - 1s 7ms/step - loss: 8372391.0000 - mae: 1877.9301 - val_loss: 8616870.0000 - val_mae: 1887.1952\n",
      "Epoch 165/200\n",
      "201/201 [==============================] - 1s 7ms/step - loss: 8307634.0000 - mae: 1866.2036 - val_loss: 8504365.0000 - val_mae: 1907.3066\n",
      "Epoch 166/200\n",
      "201/201 [==============================] - 1s 6ms/step - loss: 8299267.0000 - mae: 1868.0035 - val_loss: 8576715.0000 - val_mae: 1922.3525\n",
      "Epoch 167/200\n",
      "201/201 [==============================] - 1s 7ms/step - loss: 8267731.5000 - mae: 1862.2460 - val_loss: 8465268.0000 - val_mae: 1892.6718\n",
      "Epoch 168/200\n",
      "201/201 [==============================] - 1s 7ms/step - loss: 8250094.0000 - mae: 1861.9019 - val_loss: 8815740.0000 - val_mae: 1962.7810\n",
      "Epoch 169/200\n",
      "201/201 [==============================] - 1s 6ms/step - loss: 8272432.5000 - mae: 1862.1138 - val_loss: 8539302.0000 - val_mae: 1921.3835\n",
      "Epoch 170/200\n",
      "201/201 [==============================] - 1s 7ms/step - loss: 8245634.5000 - mae: 1860.0090 - val_loss: 8862079.0000 - val_mae: 1978.3469\n",
      "Epoch 171/200\n",
      "201/201 [==============================] - 1s 7ms/step - loss: 8217439.5000 - mae: 1860.9316 - val_loss: 8419570.0000 - val_mae: 1894.5071\n",
      "Epoch 172/200\n",
      "201/201 [==============================] - 1s 6ms/step - loss: 8235726.0000 - mae: 1858.2484 - val_loss: 8408122.0000 - val_mae: 1893.5996\n",
      "Epoch 173/200\n",
      "201/201 [==============================] - 1s 7ms/step - loss: 8198396.5000 - mae: 1860.1603 - val_loss: 8372799.0000 - val_mae: 1861.5699\n",
      "Epoch 174/200\n",
      "201/201 [==============================] - 1s 7ms/step - loss: 8174887.5000 - mae: 1854.4569 - val_loss: 8396223.0000 - val_mae: 1879.8420\n",
      "Epoch 175/200\n",
      "201/201 [==============================] - 1s 6ms/step - loss: 8135925.5000 - mae: 1847.1176 - val_loss: 8346580.5000 - val_mae: 1867.1486\n",
      "Epoch 176/200\n",
      "201/201 [==============================] - 1s 7ms/step - loss: 8149489.5000 - mae: 1849.3140 - val_loss: 8400321.0000 - val_mae: 1869.9714\n",
      "Epoch 177/200\n",
      "201/201 [==============================] - 1s 7ms/step - loss: 8130851.5000 - mae: 1847.7181 - val_loss: 8394702.0000 - val_mae: 1869.1490\n",
      "Epoch 178/200\n",
      "201/201 [==============================] - 1s 6ms/step - loss: 8078185.0000 - mae: 1842.3401 - val_loss: 8366467.0000 - val_mae: 1878.0773\n",
      "Epoch 179/200\n",
      "201/201 [==============================] - 1s 7ms/step - loss: 8074555.0000 - mae: 1843.9374 - val_loss: 8366460.5000 - val_mae: 1887.2095\n",
      "Epoch 180/200\n",
      "201/201 [==============================] - 1s 7ms/step - loss: 8137069.0000 - mae: 1851.5099 - val_loss: 8353718.0000 - val_mae: 1883.0529\n",
      "Epoch 181/200\n",
      "201/201 [==============================] - 1s 6ms/step - loss: 8080776.0000 - mae: 1840.6218 - val_loss: 8309873.5000 - val_mae: 1879.6346\n",
      "Epoch 182/200\n",
      "201/201 [==============================] - 1s 7ms/step - loss: 8105493.5000 - mae: 1852.5114 - val_loss: 8453087.0000 - val_mae: 1856.4094\n",
      "Epoch 183/200\n",
      "201/201 [==============================] - 1s 7ms/step - loss: 8043441.5000 - mae: 1835.4990 - val_loss: 8592476.0000 - val_mae: 1880.5957\n",
      "Epoch 184/200\n",
      "201/201 [==============================] - 1s 7ms/step - loss: 8033590.0000 - mae: 1830.2698 - val_loss: 8354071.0000 - val_mae: 1850.1699\n",
      "Epoch 185/200\n",
      "201/201 [==============================] - 1s 7ms/step - loss: 8105564.0000 - mae: 1844.1212 - val_loss: 8261092.5000 - val_mae: 1848.3425\n",
      "Epoch 186/200\n",
      "201/201 [==============================] - 1s 7ms/step - loss: 7966262.5000 - mae: 1827.1993 - val_loss: 8208008.5000 - val_mae: 1861.1730\n",
      "Epoch 187/200\n",
      "201/201 [==============================] - 1s 6ms/step - loss: 7948237.0000 - mae: 1825.0568 - val_loss: 8263545.0000 - val_mae: 1841.5669\n",
      "Epoch 188/200\n",
      "201/201 [==============================] - 1s 7ms/step - loss: 7949893.5000 - mae: 1829.1357 - val_loss: 8156697.0000 - val_mae: 1850.9211\n",
      "Epoch 189/200\n",
      "201/201 [==============================] - 1s 7ms/step - loss: 7952538.0000 - mae: 1827.1265 - val_loss: 8353719.0000 - val_mae: 1902.5710\n",
      "Epoch 190/200\n",
      "201/201 [==============================] - 1s 6ms/step - loss: 7940729.0000 - mae: 1829.0696 - val_loss: 8330054.5000 - val_mae: 1848.3109\n",
      "Epoch 191/200\n",
      "201/201 [==============================] - 1s 7ms/step - loss: 7868141.0000 - mae: 1820.0421 - val_loss: 8376863.5000 - val_mae: 1852.9360\n",
      "Epoch 192/200\n",
      "201/201 [==============================] - 1s 7ms/step - loss: 7896213.0000 - mae: 1826.0538 - val_loss: 8160919.5000 - val_mae: 1857.5486\n",
      "Epoch 193/200\n",
      "201/201 [==============================] - 1s 6ms/step - loss: 7852964.0000 - mae: 1815.4609 - val_loss: 8140636.0000 - val_mae: 1836.6697\n",
      "Epoch 194/200\n",
      "201/201 [==============================] - 1s 7ms/step - loss: 7853543.5000 - mae: 1816.5458 - val_loss: 8122834.5000 - val_mae: 1851.4341\n",
      "Epoch 195/200\n",
      "201/201 [==============================] - 1s 7ms/step - loss: 7835889.0000 - mae: 1817.1821 - val_loss: 8471094.0000 - val_mae: 1871.3146\n",
      "Epoch 196/200\n",
      "201/201 [==============================] - 1s 6ms/step - loss: 7819594.5000 - mae: 1813.2599 - val_loss: 8105911.0000 - val_mae: 1845.1361\n",
      "Epoch 197/200\n",
      "201/201 [==============================] - 1s 7ms/step - loss: 7881713.5000 - mae: 1821.6627 - val_loss: 8171369.5000 - val_mae: 1872.3013\n",
      "Epoch 198/200\n",
      "201/201 [==============================] - 1s 7ms/step - loss: 7803835.5000 - mae: 1815.1134 - val_loss: 8255157.5000 - val_mae: 1842.8009\n",
      "Epoch 199/200\n",
      "201/201 [==============================] - 1s 6ms/step - loss: 7803980.5000 - mae: 1813.3076 - val_loss: 8037596.5000 - val_mae: 1834.4944\n",
      "Epoch 200/200\n",
      "201/201 [==============================] - 1s 7ms/step - loss: 7730275.0000 - mae: 1806.2058 - val_loss: 8116877.5000 - val_mae: 1847.6482\n"
     ]
    }
   ],
   "source": [
    "model_history = model.fit(X_train1,y_train1,epochs = 200,validation_data = (X_valid1,y_valid1))"
   ]
  },
  {
   "cell_type": "code",
   "execution_count": 152,
   "id": "f90b9699",
   "metadata": {},
   "outputs": [
    {
     "data": {
      "image/png": "[encoded data removed]",
      "text/plain": [
       "<Figure size 864x576 with 1 Axes>"
      ]
     },
     "metadata": {
      "needs_background": "light"
     },
     "output_type": "display_data"
    }
   ],
   "source": [
    "pd.DataFrame(model_history.history).plot(figsize = (12,8))\n",
    "plt.grid(True)\n",
    "\n",
    "plt.show()"
   ]
  },
  {
   "cell_type": "code",
   "execution_count": 153,
   "id": "b4ec9170",
   "metadata": {},
   "outputs": [],
   "source": [
    "X_test = np.array(pd.read_csv('X_test.csv'))\n",
    "y_test = np.array(pd.read_csv('y_test.csv'))"
   ]
  },
  {
   "cell_type": "code",
   "execution_count": 154,
   "id": "1e26fa76",
   "metadata": {},
   "outputs": [
    {
     "name": "stdout",
     "output_type": "stream",
     "text": [
      "1/1 [==============================] - 0s 78ms/step\n"
     ]
    },
    {
     "data": {
      "text/plain": [
       "array([[14065.607],\n",
       "       [10063.918],\n",
       "       [10884.699],\n",
       "       [11546.091],\n",
       "       [12110.155]], dtype=float32)"
      ]
     },
     "execution_count": 154,
     "metadata": {},
     "output_type": "execute_result"
    }
   ],
   "source": [
    "model.predict(X_test[:5])"
   ]
  },
  {
   "cell_type": "code",
   "execution_count": 155,
   "id": "898d4fc8",
   "metadata": {},
   "outputs": [
    {
     "data": {
      "text/plain": [
       "array([[ 9134],\n",
       "       [ 9486],\n",
       "       [10697],\n",
       "       [11806],\n",
       "       [ 7594]], dtype=int64)"
      ]
     },
     "execution_count": 155,
     "metadata": {},
     "output_type": "execute_result"
    }
   ],
   "source": [
    "y_test[:5]"
   ]
  },
  {
   "cell_type": "code",
   "execution_count": 156,
   "id": "a67caed7",
   "metadata": {},
   "outputs": [
    {
     "name": "stdout",
     "output_type": "stream",
     "text": [
      "67/67 [==============================] - 0s 6ms/step - loss: 7242240.0000 - mae: 1821.3717\n"
     ]
    },
    {
     "data": {
      "text/plain": [
       "[7242240.0, 1821.3717041015625]"
      ]
     },
     "execution_count": 156,
     "metadata": {},
     "output_type": "execute_result"
    }
   ],
   "source": [
    "model.evaluate(X_test,y_test)"
   ]
  },
  {
   "cell_type": "code",
   "execution_count": 157,
   "id": "638b339d",
   "metadata": {},
   "outputs": [],
   "source": [
    "model.save('flight_perceptron_model.h5')"
   ]
  },
  {
   "cell_type": "code",
   "execution_count": 27,
   "id": "0c6a51fa",
   "metadata": {},
   "outputs": [],
   "source": [
    "from tensorflow import keras\n",
    "model = keras.models.load_model('flight_perceptron_model.h5')"
   ]
  },
  {
   "cell_type": "code",
   "execution_count": 8,
   "id": "d80f4e28",
   "metadata": {},
   "outputs": [
    {
     "name": "stdout",
     "output_type": "stream",
     "text": [
      "67/67 [==============================] - 0s 2ms/step\n"
     ]
    },
    {
     "data": {
      "text/plain": [
       "0.5139991146253753"
      ]
     },
     "execution_count": 8,
     "metadata": {},
     "output_type": "execute_result"
    }
   ],
   "source": [
    "y_pred = model.predict(X_test)\n",
    "metrics.r2_score(y_pred,y_test)"
   ]
  },
  {
   "cell_type": "code",
   "execution_count": null,
   "id": "20b192bf",
   "metadata": {},
   "outputs": [],
   "source": []
  }
 ],
 "metadata": {
  "kernelspec": {
   "display_name": "Python 3.10 (itensorflow)",
   "language": "python",
   "name": "gpurun"
  },
  "language_info": {
   "codemirror_mode": {
    "name": "ipython",
    "version": 3
   },
   "file_extension": ".py",
   "mimetype": "text/x-python",
   "name": "python",
   "nbconvert_exporter": "python",
   "pygments_lexer": "ipython3",
   "version": "3.10.4"
  }
 },
 "nbformat": 4,
 "nbformat_minor": 5
}
